{
 "cells": [
  {
   "cell_type": "markdown",
   "id": "6f70df3e-3865-4889-9f67-4aa5119c79bf",
   "metadata": {},
   "source": [
    "# Exploratory Data Analysis"
   ]
  },
  {
   "cell_type": "markdown",
   "id": "f2e3f0c4-2162-4983-abd1-4db1b3c834ae",
   "metadata": {},
   "source": [
    "## Imports"
   ]
  },
  {
   "cell_type": "code",
   "execution_count": 9,
   "id": "35dc034e-b6d8-4c71-97ea-d6292f02b9c1",
   "metadata": {},
   "outputs": [],
   "source": [
    "import pandas as pd\n",
    "import matplotlib.pyplot as plt\n",
    "import seaborn as sns\n",
    "\n",
    "from sklearn.feature_extraction.text import CountVectorizer\n",
    "from sklearn.feature_extraction import text\n",
    "from nltk.corpus import stopwords\n",
    "from nltk.stem import WordNetLemmatizer\n",
    "from nltk.tokenize import word_tokenize\n",
    "\n",
    "import re"
   ]
  },
  {
   "cell_type": "markdown",
   "id": "08b1be91-888b-4046-a49e-a2c9bfb66687",
   "metadata": {},
   "source": [
    "## Simple Stats"
   ]
  },
  {
   "cell_type": "markdown",
   "id": "0f9e80c0-f016-4b49-b9de-3349624186a5",
   "metadata": {},
   "source": [
    "#### Listings DF"
   ]
  },
  {
   "cell_type": "code",
   "execution_count": 10,
   "id": "902cb6a3-66cb-4df4-a910-4adc5641250f",
   "metadata": {},
   "outputs": [
    {
     "name": "stderr",
     "output_type": "stream",
     "text": [
      "/var/folders/bl/639jfgnd3jb_3b76z0p4htl40000gn/T/ipykernel_17985/3220093407.py:2: DtypeWarning: Columns (1,3,10,35,36,38) have mixed types. Specify dtype option on import or set low_memory=False.\n",
      "  listings_df = pd.read_csv('../data/cleaned_listings.csv').drop(columns = 'Unnamed: 0')\n"
     ]
    },
    {
     "data": {
      "text/html": [
       "<div>\n",
       "<style scoped>\n",
       "    .dataframe tbody tr th:only-of-type {\n",
       "        vertical-align: middle;\n",
       "    }\n",
       "\n",
       "    .dataframe tbody tr th {\n",
       "        vertical-align: top;\n",
       "    }\n",
       "\n",
       "    .dataframe thead th {\n",
       "        text-align: right;\n",
       "    }\n",
       "</style>\n",
       "<table border=\"1\" class=\"dataframe\">\n",
       "  <thead>\n",
       "    <tr style=\"text-align: right;\">\n",
       "      <th></th>\n",
       "      <th>id</th>\n",
       "      <th>listing_url</th>\n",
       "      <th>scrape_id</th>\n",
       "      <th>last_scraped</th>\n",
       "      <th>source</th>\n",
       "      <th>name</th>\n",
       "      <th>description</th>\n",
       "      <th>neighborhood_overview</th>\n",
       "      <th>picture_url</th>\n",
       "      <th>host_id</th>\n",
       "      <th>...</th>\n",
       "      <th>review_scores_cleanliness</th>\n",
       "      <th>review_scores_checkin</th>\n",
       "      <th>review_scores_communication</th>\n",
       "      <th>review_scores_location</th>\n",
       "      <th>review_scores_value</th>\n",
       "      <th>calculated_host_listings_count</th>\n",
       "      <th>calculated_host_listings_count_entire_homes</th>\n",
       "      <th>calculated_host_listings_count_private_rooms</th>\n",
       "      <th>calculated_host_listings_count_shared_rooms</th>\n",
       "      <th>reviews_per_month</th>\n",
       "    </tr>\n",
       "  </thead>\n",
       "  <tbody>\n",
       "    <tr>\n",
       "      <th>0</th>\n",
       "      <td>2595.0</td>\n",
       "      <td>https://www.airbnb.com/rooms/2595</td>\n",
       "      <td>20221204162430.0</td>\n",
       "      <td>2022-12-05</td>\n",
       "      <td>city scrape</td>\n",
       "      <td>Skylit Midtown Castle</td>\n",
       "      <td>Beautiful, spacious skylit studio in the heart...</td>\n",
       "      <td>Centrally located in the heart of Manhattan ju...</td>\n",
       "      <td>https://a0.muscache.com/pictures/f0813a11-40b2...</td>\n",
       "      <td>2845</td>\n",
       "      <td>...</td>\n",
       "      <td>4.63</td>\n",
       "      <td>4.77</td>\n",
       "      <td>4.8</td>\n",
       "      <td>4.81</td>\n",
       "      <td>4.4</td>\n",
       "      <td>3.0</td>\n",
       "      <td>3.0</td>\n",
       "      <td>0.0</td>\n",
       "      <td>0.0</td>\n",
       "      <td>0.31</td>\n",
       "    </tr>\n",
       "  </tbody>\n",
       "</table>\n",
       "<p>1 rows × 75 columns</p>\n",
       "</div>"
      ],
      "text/plain": [
       "       id                        listing_url         scrape_id last_scraped  \\\n",
       "0  2595.0  https://www.airbnb.com/rooms/2595  20221204162430.0   2022-12-05   \n",
       "\n",
       "        source                   name  \\\n",
       "0  city scrape  Skylit Midtown Castle   \n",
       "\n",
       "                                         description  \\\n",
       "0  Beautiful, spacious skylit studio in the heart...   \n",
       "\n",
       "                               neighborhood_overview  \\\n",
       "0  Centrally located in the heart of Manhattan ju...   \n",
       "\n",
       "                                         picture_url host_id  ...  \\\n",
       "0  https://a0.muscache.com/pictures/f0813a11-40b2...    2845  ...   \n",
       "\n",
       "  review_scores_cleanliness review_scores_checkin review_scores_communication  \\\n",
       "0                      4.63                  4.77                         4.8   \n",
       "\n",
       "  review_scores_location review_scores_value calculated_host_listings_count  \\\n",
       "0                   4.81                 4.4                            3.0   \n",
       "\n",
       "  calculated_host_listings_count_entire_homes  \\\n",
       "0                                         3.0   \n",
       "\n",
       "  calculated_host_listings_count_private_rooms  \\\n",
       "0                                          0.0   \n",
       "\n",
       "  calculated_host_listings_count_shared_rooms reviews_per_month  \n",
       "0                                         0.0              0.31  \n",
       "\n",
       "[1 rows x 75 columns]"
      ]
     },
     "execution_count": 10,
     "metadata": {},
     "output_type": "execute_result"
    }
   ],
   "source": [
    "# read in cleaned csv\n",
    "listings_df = pd.read_csv('../data/cleaned_listings.csv').drop(columns = 'Unnamed: 0')\n",
    "\n",
    "# check first 5 rows\n",
    "listings_df.head(1)"
   ]
  },
  {
   "cell_type": "code",
   "execution_count": 11,
   "id": "13912239-b62b-45ec-8055-df123b7ef57e",
   "metadata": {},
   "outputs": [
    {
     "data": {
      "text/html": [
       "<div>\n",
       "<style scoped>\n",
       "    .dataframe tbody tr th:only-of-type {\n",
       "        vertical-align: middle;\n",
       "    }\n",
       "\n",
       "    .dataframe tbody tr th {\n",
       "        vertical-align: top;\n",
       "    }\n",
       "\n",
       "    .dataframe thead th {\n",
       "        text-align: right;\n",
       "    }\n",
       "</style>\n",
       "<table border=\"1\" class=\"dataframe\">\n",
       "  <thead>\n",
       "    <tr style=\"text-align: right;\">\n",
       "      <th></th>\n",
       "      <th>host_listings_count</th>\n",
       "      <th>host_total_listings_count</th>\n",
       "      <th>latitude</th>\n",
       "      <th>longitude</th>\n",
       "      <th>accommodates</th>\n",
       "      <th>bedrooms</th>\n",
       "      <th>beds</th>\n",
       "      <th>minimum_nights</th>\n",
       "      <th>maximum_nights</th>\n",
       "      <th>minimum_minimum_nights</th>\n",
       "      <th>...</th>\n",
       "      <th>review_scores_cleanliness</th>\n",
       "      <th>review_scores_checkin</th>\n",
       "      <th>review_scores_communication</th>\n",
       "      <th>review_scores_location</th>\n",
       "      <th>review_scores_value</th>\n",
       "      <th>calculated_host_listings_count</th>\n",
       "      <th>calculated_host_listings_count_entire_homes</th>\n",
       "      <th>calculated_host_listings_count_private_rooms</th>\n",
       "      <th>calculated_host_listings_count_shared_rooms</th>\n",
       "      <th>reviews_per_month</th>\n",
       "    </tr>\n",
       "  </thead>\n",
       "  <tbody>\n",
       "    <tr>\n",
       "      <th>count</th>\n",
       "      <td>41535.000000</td>\n",
       "      <td>41535.000000</td>\n",
       "      <td>41535.000000</td>\n",
       "      <td>41535.000000</td>\n",
       "      <td>41535.000000</td>\n",
       "      <td>41535.000000</td>\n",
       "      <td>41535.000000</td>\n",
       "      <td>41535.000000</td>\n",
       "      <td>4.153500e+04</td>\n",
       "      <td>41535.000000</td>\n",
       "      <td>...</td>\n",
       "      <td>41535.000000</td>\n",
       "      <td>41535.000000</td>\n",
       "      <td>41535.000000</td>\n",
       "      <td>41535.000000</td>\n",
       "      <td>41535.000000</td>\n",
       "      <td>41535.000000</td>\n",
       "      <td>41535.000000</td>\n",
       "      <td>41535.000000</td>\n",
       "      <td>41535.000000</td>\n",
       "      <td>41535.000000</td>\n",
       "    </tr>\n",
       "    <tr>\n",
       "      <th>mean</th>\n",
       "      <td>86.601613</td>\n",
       "      <td>136.240231</td>\n",
       "      <td>40.760243</td>\n",
       "      <td>-73.901530</td>\n",
       "      <td>2.957987</td>\n",
       "      <td>1.253617</td>\n",
       "      <td>1.611581</td>\n",
       "      <td>18.590875</td>\n",
       "      <td>5.323913e+04</td>\n",
       "      <td>18.633345</td>\n",
       "      <td>...</td>\n",
       "      <td>3.536364</td>\n",
       "      <td>3.674324</td>\n",
       "      <td>3.672509</td>\n",
       "      <td>3.613908</td>\n",
       "      <td>3.544668</td>\n",
       "      <td>20.625761</td>\n",
       "      <td>11.309570</td>\n",
       "      <td>9.198050</td>\n",
       "      <td>0.053810</td>\n",
       "      <td>0.989906</td>\n",
       "    </tr>\n",
       "    <tr>\n",
       "      <th>std</th>\n",
       "      <td>518.303440</td>\n",
       "      <td>773.449674</td>\n",
       "      <td>5.560525</td>\n",
       "      <td>6.285929</td>\n",
       "      <td>2.078639</td>\n",
       "      <td>0.857868</td>\n",
       "      <td>1.225468</td>\n",
       "      <td>30.699623</td>\n",
       "      <td>1.053805e+07</td>\n",
       "      <td>32.389514</td>\n",
       "      <td>...</td>\n",
       "      <td>2.025175</td>\n",
       "      <td>2.079821</td>\n",
       "      <td>2.080749</td>\n",
       "      <td>2.046494</td>\n",
       "      <td>2.022244</td>\n",
       "      <td>68.872897</td>\n",
       "      <td>56.445366</td>\n",
       "      <td>40.091974</td>\n",
       "      <td>0.590994</td>\n",
       "      <td>1.784391</td>\n",
       "    </tr>\n",
       "    <tr>\n",
       "      <th>min</th>\n",
       "      <td>0.000000</td>\n",
       "      <td>0.000000</td>\n",
       "      <td>0.000000</td>\n",
       "      <td>-74.249840</td>\n",
       "      <td>0.000000</td>\n",
       "      <td>0.000000</td>\n",
       "      <td>0.000000</td>\n",
       "      <td>0.000000</td>\n",
       "      <td>0.000000e+00</td>\n",
       "      <td>0.000000</td>\n",
       "      <td>...</td>\n",
       "      <td>0.000000</td>\n",
       "      <td>0.000000</td>\n",
       "      <td>0.000000</td>\n",
       "      <td>0.000000</td>\n",
       "      <td>0.000000</td>\n",
       "      <td>0.000000</td>\n",
       "      <td>0.000000</td>\n",
       "      <td>0.000000</td>\n",
       "      <td>0.000000</td>\n",
       "      <td>0.000000</td>\n",
       "    </tr>\n",
       "    <tr>\n",
       "      <th>25%</th>\n",
       "      <td>1.000000</td>\n",
       "      <td>1.000000</td>\n",
       "      <td>40.687745</td>\n",
       "      <td>-73.982400</td>\n",
       "      <td>2.000000</td>\n",
       "      <td>1.000000</td>\n",
       "      <td>1.000000</td>\n",
       "      <td>2.000000</td>\n",
       "      <td>6.000000e+01</td>\n",
       "      <td>2.000000</td>\n",
       "      <td>...</td>\n",
       "      <td>3.000000</td>\n",
       "      <td>3.500000</td>\n",
       "      <td>3.500000</td>\n",
       "      <td>3.500000</td>\n",
       "      <td>3.000000</td>\n",
       "      <td>1.000000</td>\n",
       "      <td>0.000000</td>\n",
       "      <td>0.000000</td>\n",
       "      <td>0.000000</td>\n",
       "      <td>0.020000</td>\n",
       "    </tr>\n",
       "    <tr>\n",
       "      <th>50%</th>\n",
       "      <td>2.000000</td>\n",
       "      <td>3.000000</td>\n",
       "      <td>40.723830</td>\n",
       "      <td>-73.953150</td>\n",
       "      <td>2.000000</td>\n",
       "      <td>1.000000</td>\n",
       "      <td>1.000000</td>\n",
       "      <td>10.000000</td>\n",
       "      <td>3.650000e+02</td>\n",
       "      <td>7.000000</td>\n",
       "      <td>...</td>\n",
       "      <td>4.660000</td>\n",
       "      <td>4.880000</td>\n",
       "      <td>4.880000</td>\n",
       "      <td>4.740000</td>\n",
       "      <td>4.670000</td>\n",
       "      <td>1.000000</td>\n",
       "      <td>1.000000</td>\n",
       "      <td>0.000000</td>\n",
       "      <td>0.000000</td>\n",
       "      <td>0.260000</td>\n",
       "    </tr>\n",
       "    <tr>\n",
       "      <th>75%</th>\n",
       "      <td>5.000000</td>\n",
       "      <td>7.000000</td>\n",
       "      <td>40.762200</td>\n",
       "      <td>-73.924990</td>\n",
       "      <td>4.000000</td>\n",
       "      <td>1.000000</td>\n",
       "      <td>2.000000</td>\n",
       "      <td>30.000000</td>\n",
       "      <td>1.125000e+03</td>\n",
       "      <td>30.000000</td>\n",
       "      <td>...</td>\n",
       "      <td>4.930000</td>\n",
       "      <td>5.000000</td>\n",
       "      <td>5.000000</td>\n",
       "      <td>5.000000</td>\n",
       "      <td>4.880000</td>\n",
       "      <td>4.000000</td>\n",
       "      <td>1.000000</td>\n",
       "      <td>2.000000</td>\n",
       "      <td>0.000000</td>\n",
       "      <td>1.350000</td>\n",
       "    </tr>\n",
       "    <tr>\n",
       "      <th>max</th>\n",
       "      <td>4559.000000</td>\n",
       "      <td>12017.000000</td>\n",
       "      <td>1125.000000</td>\n",
       "      <td>1125.000000</td>\n",
       "      <td>16.000000</td>\n",
       "      <td>47.000000</td>\n",
       "      <td>77.000000</td>\n",
       "      <td>1250.000000</td>\n",
       "      <td>2.147484e+09</td>\n",
       "      <td>1250.000000</td>\n",
       "      <td>...</td>\n",
       "      <td>5.000000</td>\n",
       "      <td>5.000000</td>\n",
       "      <td>5.000000</td>\n",
       "      <td>5.000000</td>\n",
       "      <td>5.000000</td>\n",
       "      <td>487.000000</td>\n",
       "      <td>487.000000</td>\n",
       "      <td>345.000000</td>\n",
       "      <td>15.000000</td>\n",
       "      <td>102.980000</td>\n",
       "    </tr>\n",
       "  </tbody>\n",
       "</table>\n",
       "<p>8 rows × 32 columns</p>\n",
       "</div>"
      ],
      "text/plain": [
       "       host_listings_count  host_total_listings_count      latitude  \\\n",
       "count         41535.000000               41535.000000  41535.000000   \n",
       "mean             86.601613                 136.240231     40.760243   \n",
       "std             518.303440                 773.449674      5.560525   \n",
       "min               0.000000                   0.000000      0.000000   \n",
       "25%               1.000000                   1.000000     40.687745   \n",
       "50%               2.000000                   3.000000     40.723830   \n",
       "75%               5.000000                   7.000000     40.762200   \n",
       "max            4559.000000               12017.000000   1125.000000   \n",
       "\n",
       "          longitude  accommodates      bedrooms          beds  minimum_nights  \\\n",
       "count  41535.000000  41535.000000  41535.000000  41535.000000    41535.000000   \n",
       "mean     -73.901530      2.957987      1.253617      1.611581       18.590875   \n",
       "std        6.285929      2.078639      0.857868      1.225468       30.699623   \n",
       "min      -74.249840      0.000000      0.000000      0.000000        0.000000   \n",
       "25%      -73.982400      2.000000      1.000000      1.000000        2.000000   \n",
       "50%      -73.953150      2.000000      1.000000      1.000000       10.000000   \n",
       "75%      -73.924990      4.000000      1.000000      2.000000       30.000000   \n",
       "max     1125.000000     16.000000     47.000000     77.000000     1250.000000   \n",
       "\n",
       "       maximum_nights  minimum_minimum_nights  ...  review_scores_cleanliness  \\\n",
       "count    4.153500e+04            41535.000000  ...               41535.000000   \n",
       "mean     5.323913e+04               18.633345  ...                   3.536364   \n",
       "std      1.053805e+07               32.389514  ...                   2.025175   \n",
       "min      0.000000e+00                0.000000  ...                   0.000000   \n",
       "25%      6.000000e+01                2.000000  ...                   3.000000   \n",
       "50%      3.650000e+02                7.000000  ...                   4.660000   \n",
       "75%      1.125000e+03               30.000000  ...                   4.930000   \n",
       "max      2.147484e+09             1250.000000  ...                   5.000000   \n",
       "\n",
       "       review_scores_checkin  review_scores_communication  \\\n",
       "count           41535.000000                 41535.000000   \n",
       "mean                3.674324                     3.672509   \n",
       "std                 2.079821                     2.080749   \n",
       "min                 0.000000                     0.000000   \n",
       "25%                 3.500000                     3.500000   \n",
       "50%                 4.880000                     4.880000   \n",
       "75%                 5.000000                     5.000000   \n",
       "max                 5.000000                     5.000000   \n",
       "\n",
       "       review_scores_location  review_scores_value  \\\n",
       "count            41535.000000         41535.000000   \n",
       "mean                 3.613908             3.544668   \n",
       "std                  2.046494             2.022244   \n",
       "min                  0.000000             0.000000   \n",
       "25%                  3.500000             3.000000   \n",
       "50%                  4.740000             4.670000   \n",
       "75%                  5.000000             4.880000   \n",
       "max                  5.000000             5.000000   \n",
       "\n",
       "       calculated_host_listings_count  \\\n",
       "count                    41535.000000   \n",
       "mean                        20.625761   \n",
       "std                         68.872897   \n",
       "min                          0.000000   \n",
       "25%                          1.000000   \n",
       "50%                          1.000000   \n",
       "75%                          4.000000   \n",
       "max                        487.000000   \n",
       "\n",
       "       calculated_host_listings_count_entire_homes  \\\n",
       "count                                 41535.000000   \n",
       "mean                                     11.309570   \n",
       "std                                      56.445366   \n",
       "min                                       0.000000   \n",
       "25%                                       0.000000   \n",
       "50%                                       1.000000   \n",
       "75%                                       1.000000   \n",
       "max                                     487.000000   \n",
       "\n",
       "       calculated_host_listings_count_private_rooms  \\\n",
       "count                                  41535.000000   \n",
       "mean                                       9.198050   \n",
       "std                                       40.091974   \n",
       "min                                        0.000000   \n",
       "25%                                        0.000000   \n",
       "50%                                        0.000000   \n",
       "75%                                        2.000000   \n",
       "max                                      345.000000   \n",
       "\n",
       "       calculated_host_listings_count_shared_rooms  reviews_per_month  \n",
       "count                                 41535.000000       41535.000000  \n",
       "mean                                      0.053810           0.989906  \n",
       "std                                       0.590994           1.784391  \n",
       "min                                       0.000000           0.000000  \n",
       "25%                                       0.000000           0.020000  \n",
       "50%                                       0.000000           0.260000  \n",
       "75%                                       0.000000           1.350000  \n",
       "max                                      15.000000         102.980000  \n",
       "\n",
       "[8 rows x 32 columns]"
      ]
     },
     "execution_count": 11,
     "metadata": {},
     "output_type": "execute_result"
    }
   ],
   "source": [
    "listings_df.describe()"
   ]
  },
  {
   "cell_type": "code",
   "execution_count": 12,
   "id": "1b59c6b5-9ba6-4886-90ef-aeb43d8960f5",
   "metadata": {
    "scrolled": true,
    "tags": []
   },
   "outputs": [
    {
     "name": "stdout",
     "output_type": "stream",
     "text": [
      "<class 'pandas.core.frame.DataFrame'>\n",
      "RangeIndex: 41535 entries, 0 to 41534\n",
      "Data columns (total 75 columns):\n",
      " #   Column                                        Non-Null Count  Dtype  \n",
      "---  ------                                        --------------  -----  \n",
      " 0   id                                            41535 non-null  object \n",
      " 1   listing_url                                   41535 non-null  object \n",
      " 2   scrape_id                                     41535 non-null  object \n",
      " 3   last_scraped                                  41535 non-null  object \n",
      " 4   source                                        41535 non-null  object \n",
      " 5   name                                          41535 non-null  object \n",
      " 6   description                                   41535 non-null  object \n",
      " 7   neighborhood_overview                         41535 non-null  object \n",
      " 8   picture_url                                   41535 non-null  object \n",
      " 9   host_id                                       41535 non-null  object \n",
      " 10  host_url                                      41535 non-null  object \n",
      " 11  host_name                                     41535 non-null  object \n",
      " 12  host_since                                    41535 non-null  object \n",
      " 13  host_location                                 41535 non-null  object \n",
      " 14  host_about                                    41535 non-null  object \n",
      " 15  host_response_time                            41535 non-null  object \n",
      " 16  host_response_rate                            41535 non-null  object \n",
      " 17  host_acceptance_rate                          41535 non-null  object \n",
      " 18  host_is_superhost                             41535 non-null  object \n",
      " 19  host_thumbnail_url                            41535 non-null  object \n",
      " 20  host_picture_url                              41535 non-null  object \n",
      " 21  host_neighbourhood                            41535 non-null  object \n",
      " 22  host_verifications                            41535 non-null  object \n",
      " 23  host_has_profile_pic                          41535 non-null  object \n",
      " 24  host_identity_verified                        41535 non-null  object \n",
      " 25  neighbourhood                                 41535 non-null  object \n",
      " 26  neighbourhood_cleansed                        41535 non-null  object \n",
      " 27  neighbourhood_group_cleansed                  41535 non-null  object \n",
      " 28  property_type                                 41535 non-null  object \n",
      " 29  room_type                                     41535 non-null  object \n",
      " 30  bathrooms                                     41535 non-null  object \n",
      " 31  bathrooms_text                                41535 non-null  object \n",
      " 32  amenities                                     41535 non-null  object \n",
      " 33  price                                         41535 non-null  object \n",
      " 34  maximum_minimum_nights                        41535 non-null  object \n",
      " 35  minimum_maximum_nights                        41535 non-null  object \n",
      " 36  has_availability                              41535 non-null  object \n",
      " 37  availability_365                              41535 non-null  object \n",
      " 38  calendar_last_scraped                         41535 non-null  object \n",
      " 39  first_review                                  41535 non-null  object \n",
      " 40  last_review                                   41535 non-null  object \n",
      " 41  license                                       41535 non-null  object \n",
      " 42  instant_bookable                              41535 non-null  object \n",
      " 43  host_listings_count                           41535 non-null  float64\n",
      " 44  host_total_listings_count                     41535 non-null  float64\n",
      " 45  latitude                                      41535 non-null  float64\n",
      " 46  longitude                                     41535 non-null  float64\n",
      " 47  accommodates                                  41535 non-null  float64\n",
      " 48  bedrooms                                      41535 non-null  float64\n",
      " 49  beds                                          41535 non-null  float64\n",
      " 50  minimum_nights                                41535 non-null  float64\n",
      " 51  maximum_nights                                41535 non-null  float64\n",
      " 52  minimum_minimum_nights                        41535 non-null  float64\n",
      " 53  maximum_maximum_nights                        41535 non-null  float64\n",
      " 54  minimum_nights_avg_ntm                        41535 non-null  float64\n",
      " 55  maximum_nights_avg_ntm                        41535 non-null  float64\n",
      " 56  calendar_updated                              41535 non-null  float64\n",
      " 57  availability_30                               41535 non-null  float64\n",
      " 58  availability_60                               41535 non-null  float64\n",
      " 59  availability_90                               41535 non-null  float64\n",
      " 60  number_of_reviews                             41535 non-null  float64\n",
      " 61  number_of_reviews_ltm                         41535 non-null  float64\n",
      " 62  number_of_reviews_l30d                        41535 non-null  float64\n",
      " 63  review_scores_rating                          41535 non-null  float64\n",
      " 64  review_scores_accuracy                        41535 non-null  float64\n",
      " 65  review_scores_cleanliness                     41535 non-null  float64\n",
      " 66  review_scores_checkin                         41535 non-null  float64\n",
      " 67  review_scores_communication                   41535 non-null  float64\n",
      " 68  review_scores_location                        41535 non-null  float64\n",
      " 69  review_scores_value                           41535 non-null  float64\n",
      " 70  calculated_host_listings_count                41535 non-null  float64\n",
      " 71  calculated_host_listings_count_entire_homes   41535 non-null  float64\n",
      " 72  calculated_host_listings_count_private_rooms  41535 non-null  float64\n",
      " 73  calculated_host_listings_count_shared_rooms   41535 non-null  float64\n",
      " 74  reviews_per_month                             41535 non-null  float64\n",
      "dtypes: float64(32), object(43)\n",
      "memory usage: 23.8+ MB\n"
     ]
    }
   ],
   "source": [
    "listings_df.info()"
   ]
  },
  {
   "cell_type": "code",
   "execution_count": 18,
   "id": "ea4e5105-ccdb-42b6-9e89-98fa159f1875",
   "metadata": {},
   "outputs": [
    {
     "data": {
      "image/png": "[encoded data removed]",
      "text/plain": [
       "<Figure size 640x480 with 1 Axes>"
      ]
     },
     "metadata": {},
     "output_type": "display_data"
    },
    {
     "data": {
      "text/plain": [
       "<Figure size 640x480 with 0 Axes>"
      ]
     },
     "metadata": {},
     "output_type": "display_data"
    }
   ],
   "source": [
    "# box plot of lot area to find outliers for numeric x variable - reviews_per_month\n",
    "sns.boxplot(x = listings_df['reviews_per_month'])\n",
    "\n",
    "plt.show()\n",
    "\n",
    "plt.savefig('../images/reviews_per_month.png');"
   ]
  },
  {
   "cell_type": "markdown",
   "id": "4b5d661c-db4d-45d9-8a66-2818fa236a51",
   "metadata": {},
   "source": [
    "##### Note: 1 major outlier of over 100 reviews per month, but we will also see some outliers for 40 - 80 reviews per month."
   ]
  },
  {
   "cell_type": "code",
   "execution_count": 14,
   "id": "ffc26947-1831-4157-a19e-f6b794030615",
   "metadata": {},
   "outputs": [
    {
     "data": {
      "image/png": "[encoded data removed]",
      "text/plain": [
       "<Figure size 500x500 with 1 Axes>"
      ]
     },
     "metadata": {},
     "output_type": "display_data"
    },
    {
     "data": {
      "text/plain": [
       "<Figure size 640x480 with 0 Axes>"
      ]
     },
     "metadata": {},
     "output_type": "display_data"
    }
   ],
   "source": [
    "# distribution plot of reviews per month\n",
    "sns.displot(listings_df['reviews_per_month'],\n",
    "            bins = 15\n",
    "           )\n",
    "plt.xticks(rotation = 45)\n",
    "plt.show()"
   ]
  },
  {
   "cell_type": "code",
   "execution_count": 24,
   "id": "d66efa36-6a91-4daa-af3c-52d324515e7a",
   "metadata": {},
   "outputs": [
    {
     "data": {
      "image/png": "[encoded data removed]",
      "text/plain": [
       "<Figure size 640x480 with 1 Axes>"
      ]
     },
     "metadata": {},
     "output_type": "display_data"
    },
    {
     "data": {
      "text/plain": [
       "<Figure size 640x480 with 0 Axes>"
      ]
     },
     "metadata": {},
     "output_type": "display_data"
    }
   ],
   "source": [
    "sns.boxplot(x = listings_df['number_of_reviews'])\n",
    "\n",
    "plt.show()\n",
    "\n",
    "plt.tight_layout()\n",
    "plt.savefig('../images/number_of_reviews.png');"
   ]
  },
  {
   "cell_type": "code",
   "execution_count": 16,
   "id": "d9dbd41e-4ae9-4881-a0d5-e74de0b96ead",
   "metadata": {},
   "outputs": [
    {
     "data": {
      "image/png": "[encoded data removed]",
      "text/plain": [
       "<Figure size 500x500 with 1 Axes>"
      ]
     },
     "metadata": {},
     "output_type": "display_data"
    }
   ],
   "source": [
    "# distribution plot of total number of reviews\n",
    "sns.displot(listings_df['number_of_reviews'],\n",
    "            bins = 15\n",
    "           )\n",
    "plt.xticks(rotation = 45)\n",
    "plt.show()"
   ]
  },
  {
   "cell_type": "code",
   "execution_count": 20,
   "id": "a7c190aa-145d-434f-97d2-9fe02fc8f5cf",
   "metadata": {},
   "outputs": [
    {
     "data": {
      "image/png": "[encoded data removed]",
      "text/plain": [
       "<Figure size 640x480 with 1 Axes>"
      ]
     },
     "metadata": {},
     "output_type": "display_data"
    },
    {
     "data": {
      "text/plain": [
       "<Figure size 640x480 with 0 Axes>"
      ]
     },
     "metadata": {},
     "output_type": "display_data"
    }
   ],
   "source": [
    "sns.boxplot(x = listings_df['number_of_reviews_ltm'])\n",
    "\n",
    "plt.show()\n",
    "\n",
    "plt.savefig('../images/number_of_reviews_ltm.png');"
   ]
  },
  {
   "cell_type": "code",
   "execution_count": 10,
   "id": "72bf1733-d1b8-427f-a9ab-88109fe22e59",
   "metadata": {},
   "outputs": [
    {
     "data": {
      "image/png": "[encoded data removed]",
      "text/plain": [
       "<Figure size 500x500 with 1 Axes>"
      ]
     },
     "metadata": {},
     "output_type": "display_data"
    }
   ],
   "source": [
    "# distribution plot of number of reviews in the last twelve months\n",
    "sns.displot(listings_df['number_of_reviews_ltm'],\n",
    "            bins = 15\n",
    "           )\n",
    "plt.xticks(rotation = 45)\n",
    "plt.show()"
   ]
  },
  {
   "cell_type": "code",
   "execution_count": 21,
   "id": "c72e6f67-857f-494d-8320-a4571e07a75c",
   "metadata": {},
   "outputs": [
    {
     "data": {
      "image/png": "[encoded data removed]",
      "text/plain": [
       "<Figure size 640x480 with 1 Axes>"
      ]
     },
     "metadata": {},
     "output_type": "display_data"
    },
    {
     "data": {
      "text/plain": [
       "<Figure size 640x480 with 0 Axes>"
      ]
     },
     "metadata": {},
     "output_type": "display_data"
    }
   ],
   "source": [
    "sns.boxplot(x = listings_df['number_of_reviews_l30d'])\n",
    "\n",
    "plt.show()\n",
    "\n",
    "plt.savefig('../images/number_of_reviews_l30d.png');"
   ]
  },
  {
   "cell_type": "code",
   "execution_count": 12,
   "id": "3cc52760-9ea4-417d-af94-e471e578e150",
   "metadata": {},
   "outputs": [
    {
     "data": {
      "image/png": "[encoded data removed]",
      "text/plain": [
       "<Figure size 500x500 with 1 Axes>"
      ]
     },
     "metadata": {},
     "output_type": "display_data"
    }
   ],
   "source": [
    "# distribution plot of number of reviews in the last 30 days\n",
    "sns.displot(listings_df['number_of_reviews_l30d'],\n",
    "            bins = 15\n",
    "           )\n",
    "plt.xticks(rotation = 45)\n",
    "plt.show()"
   ]
  },
  {
   "cell_type": "markdown",
   "id": "3bfadf7a-9523-4efb-a67e-a317e9016ebf",
   "metadata": {},
   "source": [
    "##### Questions:\n",
    "* which months are most likely to generate reviews? \n",
    "* Is there correlation for volume of bookings per month and number of reviews left per month?"
   ]
  },
  {
   "cell_type": "code",
   "execution_count": 22,
   "id": "953e410e-71b8-4fcd-9e0c-e91c624f6cd6",
   "metadata": {},
   "outputs": [
    {
     "data": {
      "image/png": "[encoded data removed]",
      "text/plain": [
       "<Figure size 640x480 with 1 Axes>"
      ]
     },
     "metadata": {},
     "output_type": "display_data"
    },
    {
     "data": {
      "text/plain": [
       "<Figure size 640x480 with 0 Axes>"
      ]
     },
     "metadata": {},
     "output_type": "display_data"
    }
   ],
   "source": [
    "# box plot of lot area to find outliers for numeric x variable - bedrooms\n",
    "sns.boxplot(x = listings_df['bedrooms'])\n",
    "\n",
    "plt.show()\n",
    "\n",
    "plt.savefig('../images/bedrooms.png');"
   ]
  },
  {
   "cell_type": "code",
   "execution_count": 14,
   "id": "f897f67b-702d-4e66-97ed-ac349dd6ee75",
   "metadata": {},
   "outputs": [
    {
     "data": {
      "image/png": "[encoded data removed]",
      "text/plain": [
       "<Figure size 500x500 with 1 Axes>"
      ]
     },
     "metadata": {},
     "output_type": "display_data"
    }
   ],
   "source": [
    "# distribution plot of number of bedrooms\n",
    "sns.displot(listings_df['bedrooms'],\n",
    "            bins = 15\n",
    "           )\n",
    "plt.xticks(rotation = 45)\n",
    "plt.show()"
   ]
  },
  {
   "cell_type": "markdown",
   "id": "1346b49b-e362-486e-b741-43a1d975cbab",
   "metadata": {},
   "source": [
    "##### Note: An outlier of 40 bedrooms. Do they all accommodate 1 person each, or do some bedrooms not accommodate anyone?"
   ]
  },
  {
   "cell_type": "code",
   "execution_count": 23,
   "id": "fa9593bb-0e53-4686-969e-1e40efbd9e3f",
   "metadata": {},
   "outputs": [
    {
     "data": {
      "image/png": "[encoded data removed]",
      "text/plain": [
       "<Figure size 640x480 with 1 Axes>"
      ]
     },
     "metadata": {},
     "output_type": "display_data"
    },
    {
     "data": {
      "text/plain": [
       "<Figure size 640x480 with 0 Axes>"
      ]
     },
     "metadata": {},
     "output_type": "display_data"
    }
   ],
   "source": [
    "# box plot to find outliers for numeric x variable - accommodates\n",
    "sns.boxplot(x = listings_df['accommodates'])\n",
    "\n",
    "plt.show()\n",
    "\n",
    "plt.savefig('../images/accommodates.png');"
   ]
  },
  {
   "cell_type": "code",
   "execution_count": 16,
   "id": "ce12e300-7051-43dc-87d6-832a44ad44e0",
   "metadata": {},
   "outputs": [
    {
     "data": {
      "image/png": "[encoded data removed]",
      "text/plain": [
       "<Figure size 500x500 with 1 Axes>"
      ]
     },
     "metadata": {},
     "output_type": "display_data"
    }
   ],
   "source": [
    "# distribution plot of how many people each listing accommodates\n",
    "sns.displot(listings_df['accommodates'],\n",
    "            bins = 15\n",
    "           )\n",
    "plt.xticks(rotation = 45)\n",
    "plt.show()"
   ]
  },
  {
   "cell_type": "markdown",
   "id": "1507aa45-49b2-408c-894e-d588d738f2ec",
   "metadata": {
    "tags": []
   },
   "source": [
    "##### Note: Standard accommodation is 2-4 people, but there are outliers for more. It's interesting that the largest outlier is 16 people when we saw in an earlier box plot that there's one listing that has 40 bedrooms. Maybe this means some of those bedrooms don't actually have beds and are used as office space or even as spare rooms."
   ]
  },
  {
   "cell_type": "markdown",
   "id": "86969a8d-fdea-4538-944c-a793013d690a",
   "metadata": {},
   "source": [
    "--- "
   ]
  },
  {
   "cell_type": "markdown",
   "id": "6fb06958-ce87-4d7f-822f-25d4c9b8e161",
   "metadata": {},
   "source": [
    "#### Reviews DF"
   ]
  },
  {
   "cell_type": "code",
   "execution_count": 2,
   "id": "6281c700-3c06-48d5-a533-163857bb4217",
   "metadata": {},
   "outputs": [
    {
     "data": {
      "text/html": [
       "<div>\n",
       "<style scoped>\n",
       "    .dataframe tbody tr th:only-of-type {\n",
       "        vertical-align: middle;\n",
       "    }\n",
       "\n",
       "    .dataframe tbody tr th {\n",
       "        vertical-align: top;\n",
       "    }\n",
       "\n",
       "    .dataframe thead th {\n",
       "        text-align: right;\n",
       "    }\n",
       "</style>\n",
       "<table border=\"1\" class=\"dataframe\">\n",
       "  <thead>\n",
       "    <tr style=\"text-align: right;\">\n",
       "      <th></th>\n",
       "      <th>date</th>\n",
       "      <th>reviewer_name</th>\n",
       "      <th>comments</th>\n",
       "      <th>listing_id</th>\n",
       "      <th>id</th>\n",
       "      <th>reviewer_id</th>\n",
       "    </tr>\n",
       "  </thead>\n",
       "  <tbody>\n",
       "    <tr>\n",
       "      <th>0</th>\n",
       "      <td>2009-04-23</td>\n",
       "      <td>Pamela</td>\n",
       "      <td>Artwork, indeed! The walls are covered with dr...</td>\n",
       "      <td>5803.0</td>\n",
       "      <td>1743.0</td>\n",
       "      <td>9868.0</td>\n",
       "    </tr>\n",
       "  </tbody>\n",
       "</table>\n",
       "</div>"
      ],
      "text/plain": [
       "         date reviewer_name  \\\n",
       "0  2009-04-23        Pamela   \n",
       "\n",
       "                                            comments  listing_id      id  \\\n",
       "0  Artwork, indeed! The walls are covered with dr...      5803.0  1743.0   \n",
       "\n",
       "   reviewer_id  \n",
       "0       9868.0  "
      ]
     },
     "execution_count": 2,
     "metadata": {},
     "output_type": "execute_result"
    }
   ],
   "source": [
    "# read in cleaned csv\n",
    "reviews_df = pd.read_csv('../data/cleaned_reviews.csv').drop(columns = 'Unnamed: 0')\n",
    "\n",
    "# check first 5 rows\n",
    "reviews_df.head(1)"
   ]
  },
  {
   "cell_type": "code",
   "execution_count": 3,
   "id": "c2ebf871-ba0c-4716-9784-f1d049e23425",
   "metadata": {},
   "outputs": [
    {
     "data": {
      "text/html": [
       "<div>\n",
       "<style scoped>\n",
       "    .dataframe tbody tr th:only-of-type {\n",
       "        vertical-align: middle;\n",
       "    }\n",
       "\n",
       "    .dataframe tbody tr th {\n",
       "        vertical-align: top;\n",
       "    }\n",
       "\n",
       "    .dataframe thead th {\n",
       "        text-align: right;\n",
       "    }\n",
       "</style>\n",
       "<table border=\"1\" class=\"dataframe\">\n",
       "  <thead>\n",
       "    <tr style=\"text-align: right;\">\n",
       "      <th></th>\n",
       "      <th>listing_id</th>\n",
       "      <th>id</th>\n",
       "      <th>reviewer_id</th>\n",
       "    </tr>\n",
       "  </thead>\n",
       "  <tbody>\n",
       "    <tr>\n",
       "      <th>count</th>\n",
       "      <td>1.098459e+06</td>\n",
       "      <td>1.098459e+06</td>\n",
       "      <td>1.098459e+06</td>\n",
       "    </tr>\n",
       "    <tr>\n",
       "      <th>mean</th>\n",
       "      <td>3.773435e+16</td>\n",
       "      <td>2.411801e+17</td>\n",
       "      <td>1.349447e+08</td>\n",
       "    </tr>\n",
       "    <tr>\n",
       "      <th>std</th>\n",
       "      <td>1.501274e+17</td>\n",
       "      <td>3.060031e+17</td>\n",
       "      <td>1.315644e+08</td>\n",
       "    </tr>\n",
       "    <tr>\n",
       "      <th>min</th>\n",
       "      <td>0.000000e+00</td>\n",
       "      <td>0.000000e+00</td>\n",
       "      <td>0.000000e+00</td>\n",
       "    </tr>\n",
       "    <tr>\n",
       "      <th>25%</th>\n",
       "      <td>7.654931e+06</td>\n",
       "      <td>2.729818e+08</td>\n",
       "      <td>2.663955e+07</td>\n",
       "    </tr>\n",
       "    <tr>\n",
       "      <th>50%</th>\n",
       "      <td>2.150359e+07</td>\n",
       "      <td>5.973990e+08</td>\n",
       "      <td>8.879233e+07</td>\n",
       "    </tr>\n",
       "    <tr>\n",
       "      <th>75%</th>\n",
       "      <td>4.098671e+07</td>\n",
       "      <td>5.811176e+17</td>\n",
       "      <td>2.105154e+08</td>\n",
       "    </tr>\n",
       "    <tr>\n",
       "      <th>max</th>\n",
       "      <td>7.732903e+17</td>\n",
       "      <td>7.747240e+17</td>\n",
       "      <td>4.898917e+08</td>\n",
       "    </tr>\n",
       "  </tbody>\n",
       "</table>\n",
       "</div>"
      ],
      "text/plain": [
       "         listing_id            id   reviewer_id\n",
       "count  1.098459e+06  1.098459e+06  1.098459e+06\n",
       "mean   3.773435e+16  2.411801e+17  1.349447e+08\n",
       "std    1.501274e+17  3.060031e+17  1.315644e+08\n",
       "min    0.000000e+00  0.000000e+00  0.000000e+00\n",
       "25%    7.654931e+06  2.729818e+08  2.663955e+07\n",
       "50%    2.150359e+07  5.973990e+08  8.879233e+07\n",
       "75%    4.098671e+07  5.811176e+17  2.105154e+08\n",
       "max    7.732903e+17  7.747240e+17  4.898917e+08"
      ]
     },
     "execution_count": 3,
     "metadata": {},
     "output_type": "execute_result"
    }
   ],
   "source": [
    "reviews_df.describe()"
   ]
  },
  {
   "cell_type": "code",
   "execution_count": 4,
   "id": "c7969861-1f96-47c8-906d-fe6419d461a4",
   "metadata": {},
   "outputs": [
    {
     "name": "stdout",
     "output_type": "stream",
     "text": [
      "<class 'pandas.core.frame.DataFrame'>\n",
      "RangeIndex: 1098459 entries, 0 to 1098458\n",
      "Data columns (total 6 columns):\n",
      " #   Column         Non-Null Count    Dtype  \n",
      "---  ------         --------------    -----  \n",
      " 0   date           1098459 non-null  object \n",
      " 1   reviewer_name  1098459 non-null  object \n",
      " 2   comments       1098459 non-null  object \n",
      " 3   listing_id     1098459 non-null  float64\n",
      " 4   id             1098459 non-null  float64\n",
      " 5   reviewer_id    1098459 non-null  float64\n",
      "dtypes: float64(3), object(3)\n",
      "memory usage: 50.3+ MB\n"
     ]
    }
   ],
   "source": [
    "reviews_df.info()"
   ]
  },
  {
   "cell_type": "markdown",
   "id": "12f418e3-e87e-40e7-a17e-c4f85ddfe790",
   "metadata": {},
   "source": [
    "---"
   ]
  },
  {
   "cell_type": "markdown",
   "id": "c691e5f1-7a11-49d7-9dc8-0961f3c5b583",
   "metadata": {},
   "source": [
    "#### NLP"
   ]
  },
  {
   "cell_type": "code",
   "execution_count": 2,
   "id": "322c967d-6d1f-4eee-b8bd-4f93e8e6d42b",
   "metadata": {},
   "outputs": [
    {
     "data": {
      "text/html": [
       "<div>\n",
       "<style scoped>\n",
       "    .dataframe tbody tr th:only-of-type {\n",
       "        vertical-align: middle;\n",
       "    }\n",
       "\n",
       "    .dataframe tbody tr th {\n",
       "        vertical-align: top;\n",
       "    }\n",
       "\n",
       "    .dataframe thead th {\n",
       "        text-align: right;\n",
       "    }\n",
       "</style>\n",
       "<table border=\"1\" class=\"dataframe\">\n",
       "  <thead>\n",
       "    <tr style=\"text-align: right;\">\n",
       "      <th></th>\n",
       "      <th>date</th>\n",
       "      <th>reviewer_name</th>\n",
       "      <th>comments</th>\n",
       "      <th>listing_id</th>\n",
       "      <th>id</th>\n",
       "      <th>reviewer_id</th>\n",
       "    </tr>\n",
       "  </thead>\n",
       "  <tbody>\n",
       "    <tr>\n",
       "      <th>0</th>\n",
       "      <td>2009-04-23</td>\n",
       "      <td>Pamela</td>\n",
       "      <td>Artwork, indeed! The walls are covered with dr...</td>\n",
       "      <td>5803.0</td>\n",
       "      <td>1743.0</td>\n",
       "      <td>9868.0</td>\n",
       "    </tr>\n",
       "    <tr>\n",
       "      <th>1</th>\n",
       "      <td>2009-11-21</td>\n",
       "      <td>Jean</td>\n",
       "      <td>Notre séjour de trois nuits.\\r&lt;br/&gt;Nous avons ...</td>\n",
       "      <td>2595.0</td>\n",
       "      <td>17857.0</td>\n",
       "      <td>50679.0</td>\n",
       "    </tr>\n",
       "    <tr>\n",
       "      <th>2</th>\n",
       "      <td>2009-12-05</td>\n",
       "      <td>Cate</td>\n",
       "      <td>Great experience.</td>\n",
       "      <td>2595.0</td>\n",
       "      <td>19176.0</td>\n",
       "      <td>53267.0</td>\n",
       "    </tr>\n",
       "    <tr>\n",
       "      <th>3</th>\n",
       "      <td>2009-12-10</td>\n",
       "      <td>Anita</td>\n",
       "      <td>I've stayed with my friend at the Midtown Cast...</td>\n",
       "      <td>2595.0</td>\n",
       "      <td>19760.0</td>\n",
       "      <td>38960.0</td>\n",
       "    </tr>\n",
       "    <tr>\n",
       "      <th>4</th>\n",
       "      <td>2010-04-09</td>\n",
       "      <td>Kai-Uwe</td>\n",
       "      <td>We've been staying here for about 9 nights, en...</td>\n",
       "      <td>2595.0</td>\n",
       "      <td>34320.0</td>\n",
       "      <td>71130.0</td>\n",
       "    </tr>\n",
       "  </tbody>\n",
       "</table>\n",
       "</div>"
      ],
      "text/plain": [
       "         date reviewer_name  \\\n",
       "0  2009-04-23        Pamela   \n",
       "1  2009-11-21          Jean   \n",
       "2  2009-12-05          Cate   \n",
       "3  2009-12-10         Anita   \n",
       "4  2010-04-09       Kai-Uwe   \n",
       "\n",
       "                                            comments  listing_id       id  \\\n",
       "0  Artwork, indeed! The walls are covered with dr...      5803.0   1743.0   \n",
       "1  Notre séjour de trois nuits.\\r<br/>Nous avons ...      2595.0  17857.0   \n",
       "2                                  Great experience.      2595.0  19176.0   \n",
       "3  I've stayed with my friend at the Midtown Cast...      2595.0  19760.0   \n",
       "4  We've been staying here for about 9 nights, en...      2595.0  34320.0   \n",
       "\n",
       "   reviewer_id  \n",
       "0       9868.0  \n",
       "1      50679.0  \n",
       "2      53267.0  \n",
       "3      38960.0  \n",
       "4      71130.0  "
      ]
     },
     "execution_count": 2,
     "metadata": {},
     "output_type": "execute_result"
    }
   ],
   "source": [
    "# read in cleaned csv\n",
    "reviews_df = pd.read_csv('../data/cleaned_reviews.csv').drop(columns = 'Unnamed: 0')\n",
    "\n",
    "# check first 5 rows\n",
    "reviews_df.head()"
   ]
  },
  {
   "cell_type": "code",
   "execution_count": 3,
   "id": "ac414595-bbda-45a5-bc56-1cfbb45de28a",
   "metadata": {},
   "outputs": [
    {
     "data": {
      "text/plain": [
       "(1098459, 6)"
      ]
     },
     "execution_count": 3,
     "metadata": {},
     "output_type": "execute_result"
    }
   ],
   "source": [
    "reviews_df.shape"
   ]
  },
  {
   "cell_type": "code",
   "execution_count": 4,
   "id": "9d9ff59b-8cf7-47ba-9f0e-cc9789e463e5",
   "metadata": {},
   "outputs": [
    {
     "data": {
      "text/plain": [
       "'Artwork, indeed! The walls are covered with drawings by Maurice Sendak, Steven Kellogg, among others. It was quiet. Breakfast was ample. Batman and Robin were very affectionate. We plan to return again. Thanks, Laurie!'"
      ]
     },
     "execution_count": 4,
     "metadata": {},
     "output_type": "execute_result"
    }
   ],
   "source": [
    "# check first row in 'comments' column\n",
    "reviews_df['comments'][0]"
   ]
  },
  {
   "cell_type": "code",
   "execution_count": 5,
   "id": "068eb3d6-f42c-4287-b044-4d4fffb50e92",
   "metadata": {},
   "outputs": [
    {
     "data": {
      "text/plain": [
       "'Departamento bien equipado, el anfitrion estuvo pendiente de nuestra estancia, muy buena opcion'"
      ]
     },
     "execution_count": 5,
     "metadata": {},
     "output_type": "execute_result"
    }
   ],
   "source": [
    "# check last\n",
    "reviews_df['comments'][1098458]"
   ]
  },
  {
   "cell_type": "code",
   "execution_count": 6,
   "id": "4a72ded7-95e5-412e-855e-002e955531e1",
   "metadata": {},
   "outputs": [
    {
     "data": {
      "text/plain": [
       "218"
      ]
     },
     "execution_count": 6,
     "metadata": {},
     "output_type": "execute_result"
    }
   ],
   "source": [
    "# find length of first row\n",
    "len(reviews_df['comments'][0])"
   ]
  },
  {
   "cell_type": "code",
   "execution_count": 7,
   "id": "31c6c6bb-ca45-4226-9c99-c6af5cc5c138",
   "metadata": {},
   "outputs": [
    {
     "data": {
      "text/plain": [
       "95"
      ]
     },
     "execution_count": 7,
     "metadata": {},
     "output_type": "execute_result"
    }
   ],
   "source": [
    "# find length of last row\n",
    "len(reviews_df['comments'][1098458])"
   ]
  },
  {
   "cell_type": "code",
   "execution_count": 8,
   "id": "51d7c003-de35-40be-aa86-b27f8dd8c43c",
   "metadata": {},
   "outputs": [],
   "source": [
    "# create new column for comment length\n",
    "reviews_df['comment_length'] = reviews_df['comments'].apply(len)"
   ]
  },
  {
   "cell_type": "code",
   "execution_count": 9,
   "id": "95456140-c28f-49b0-9e97-76b16382baa9",
   "metadata": {},
   "outputs": [
    {
     "data": {
      "text/html": [
       "<div>\n",
       "<style scoped>\n",
       "    .dataframe tbody tr th:only-of-type {\n",
       "        vertical-align: middle;\n",
       "    }\n",
       "\n",
       "    .dataframe tbody tr th {\n",
       "        vertical-align: top;\n",
       "    }\n",
       "\n",
       "    .dataframe thead th {\n",
       "        text-align: right;\n",
       "    }\n",
       "</style>\n",
       "<table border=\"1\" class=\"dataframe\">\n",
       "  <thead>\n",
       "    <tr style=\"text-align: right;\">\n",
       "      <th></th>\n",
       "      <th>date</th>\n",
       "      <th>reviewer_name</th>\n",
       "      <th>comments</th>\n",
       "      <th>listing_id</th>\n",
       "      <th>id</th>\n",
       "      <th>reviewer_id</th>\n",
       "      <th>comment_length</th>\n",
       "    </tr>\n",
       "  </thead>\n",
       "  <tbody>\n",
       "    <tr>\n",
       "      <th>0</th>\n",
       "      <td>2009-04-23</td>\n",
       "      <td>Pamela</td>\n",
       "      <td>Artwork, indeed! The walls are covered with dr...</td>\n",
       "      <td>5803.0</td>\n",
       "      <td>1743.0</td>\n",
       "      <td>9868.0</td>\n",
       "      <td>218</td>\n",
       "    </tr>\n",
       "    <tr>\n",
       "      <th>1</th>\n",
       "      <td>2009-11-21</td>\n",
       "      <td>Jean</td>\n",
       "      <td>Notre séjour de trois nuits.\\r&lt;br/&gt;Nous avons ...</td>\n",
       "      <td>2595.0</td>\n",
       "      <td>17857.0</td>\n",
       "      <td>50679.0</td>\n",
       "      <td>731</td>\n",
       "    </tr>\n",
       "    <tr>\n",
       "      <th>2</th>\n",
       "      <td>2009-12-05</td>\n",
       "      <td>Cate</td>\n",
       "      <td>Great experience.</td>\n",
       "      <td>2595.0</td>\n",
       "      <td>19176.0</td>\n",
       "      <td>53267.0</td>\n",
       "      <td>17</td>\n",
       "    </tr>\n",
       "    <tr>\n",
       "      <th>3</th>\n",
       "      <td>2009-12-10</td>\n",
       "      <td>Anita</td>\n",
       "      <td>I've stayed with my friend at the Midtown Cast...</td>\n",
       "      <td>2595.0</td>\n",
       "      <td>19760.0</td>\n",
       "      <td>38960.0</td>\n",
       "      <td>475</td>\n",
       "    </tr>\n",
       "    <tr>\n",
       "      <th>4</th>\n",
       "      <td>2010-04-09</td>\n",
       "      <td>Kai-Uwe</td>\n",
       "      <td>We've been staying here for about 9 nights, en...</td>\n",
       "      <td>2595.0</td>\n",
       "      <td>34320.0</td>\n",
       "      <td>71130.0</td>\n",
       "      <td>366</td>\n",
       "    </tr>\n",
       "  </tbody>\n",
       "</table>\n",
       "</div>"
      ],
      "text/plain": [
       "         date reviewer_name  \\\n",
       "0  2009-04-23        Pamela   \n",
       "1  2009-11-21          Jean   \n",
       "2  2009-12-05          Cate   \n",
       "3  2009-12-10         Anita   \n",
       "4  2010-04-09       Kai-Uwe   \n",
       "\n",
       "                                            comments  listing_id       id  \\\n",
       "0  Artwork, indeed! The walls are covered with dr...      5803.0   1743.0   \n",
       "1  Notre séjour de trois nuits.\\r<br/>Nous avons ...      2595.0  17857.0   \n",
       "2                                  Great experience.      2595.0  19176.0   \n",
       "3  I've stayed with my friend at the Midtown Cast...      2595.0  19760.0   \n",
       "4  We've been staying here for about 9 nights, en...      2595.0  34320.0   \n",
       "\n",
       "   reviewer_id  comment_length  \n",
       "0       9868.0             218  \n",
       "1      50679.0             731  \n",
       "2      53267.0              17  \n",
       "3      38960.0             475  \n",
       "4      71130.0             366  "
      ]
     },
     "execution_count": 9,
     "metadata": {},
     "output_type": "execute_result"
    }
   ],
   "source": [
    "# check\n",
    "reviews_df.head()"
   ]
  },
  {
   "cell_type": "markdown",
   "id": "ec63f0e0-e849-4f82-bf53-fe96688aa9aa",
   "metadata": {},
   "source": [
    "##### Word Count"
   ]
  },
  {
   "cell_type": "code",
   "execution_count": 10,
   "id": "5a5b6862-c29f-4f75-b9f4-a6c762ace9c6",
   "metadata": {},
   "outputs": [
    {
     "data": {
      "text/plain": [
       "34"
      ]
     },
     "execution_count": 10,
     "metadata": {},
     "output_type": "execute_result"
    }
   ],
   "source": [
    "# get word count for first row of comments\n",
    "len(reviews_df['comments'][0].split())"
   ]
  },
  {
   "cell_type": "code",
   "execution_count": 11,
   "id": "f293074c-af83-4504-9bd5-72ba95c926b5",
   "metadata": {},
   "outputs": [
    {
     "data": {
      "text/plain": [
       "13"
      ]
     },
     "execution_count": 11,
     "metadata": {},
     "output_type": "execute_result"
    }
   ],
   "source": [
    "# get word count for last row of comments\n",
    "len(reviews_df['comments'][1098458].split())"
   ]
  },
  {
   "cell_type": "code",
   "execution_count": 12,
   "id": "151287b1-a43f-4aa0-a0aa-ebf3b09564c2",
   "metadata": {},
   "outputs": [],
   "source": [
    "# create new column for comments word count\n",
    "reviews_df['comment_word_count'] = reviews_df['comments'].apply(lambda x: len(x.split()))"
   ]
  },
  {
   "cell_type": "code",
   "execution_count": 13,
   "id": "4718d297-7f0d-42a3-b96c-6845f666b58d",
   "metadata": {},
   "outputs": [
    {
     "data": {
      "text/html": [
       "<div>\n",
       "<style scoped>\n",
       "    .dataframe tbody tr th:only-of-type {\n",
       "        vertical-align: middle;\n",
       "    }\n",
       "\n",
       "    .dataframe tbody tr th {\n",
       "        vertical-align: top;\n",
       "    }\n",
       "\n",
       "    .dataframe thead th {\n",
       "        text-align: right;\n",
       "    }\n",
       "</style>\n",
       "<table border=\"1\" class=\"dataframe\">\n",
       "  <thead>\n",
       "    <tr style=\"text-align: right;\">\n",
       "      <th></th>\n",
       "      <th>date</th>\n",
       "      <th>reviewer_name</th>\n",
       "      <th>comments</th>\n",
       "      <th>listing_id</th>\n",
       "      <th>id</th>\n",
       "      <th>reviewer_id</th>\n",
       "      <th>comment_length</th>\n",
       "      <th>comment_word_count</th>\n",
       "    </tr>\n",
       "  </thead>\n",
       "  <tbody>\n",
       "    <tr>\n",
       "      <th>0</th>\n",
       "      <td>2009-04-23</td>\n",
       "      <td>Pamela</td>\n",
       "      <td>Artwork, indeed! The walls are covered with dr...</td>\n",
       "      <td>5803.0</td>\n",
       "      <td>1743.0</td>\n",
       "      <td>9868.0</td>\n",
       "      <td>218</td>\n",
       "      <td>34</td>\n",
       "    </tr>\n",
       "    <tr>\n",
       "      <th>1</th>\n",
       "      <td>2009-11-21</td>\n",
       "      <td>Jean</td>\n",
       "      <td>Notre séjour de trois nuits.\\r&lt;br/&gt;Nous avons ...</td>\n",
       "      <td>2595.0</td>\n",
       "      <td>17857.0</td>\n",
       "      <td>50679.0</td>\n",
       "      <td>731</td>\n",
       "      <td>124</td>\n",
       "    </tr>\n",
       "    <tr>\n",
       "      <th>2</th>\n",
       "      <td>2009-12-05</td>\n",
       "      <td>Cate</td>\n",
       "      <td>Great experience.</td>\n",
       "      <td>2595.0</td>\n",
       "      <td>19176.0</td>\n",
       "      <td>53267.0</td>\n",
       "      <td>17</td>\n",
       "      <td>2</td>\n",
       "    </tr>\n",
       "    <tr>\n",
       "      <th>3</th>\n",
       "      <td>2009-12-10</td>\n",
       "      <td>Anita</td>\n",
       "      <td>I've stayed with my friend at the Midtown Cast...</td>\n",
       "      <td>2595.0</td>\n",
       "      <td>19760.0</td>\n",
       "      <td>38960.0</td>\n",
       "      <td>475</td>\n",
       "      <td>90</td>\n",
       "    </tr>\n",
       "    <tr>\n",
       "      <th>4</th>\n",
       "      <td>2010-04-09</td>\n",
       "      <td>Kai-Uwe</td>\n",
       "      <td>We've been staying here for about 9 nights, en...</td>\n",
       "      <td>2595.0</td>\n",
       "      <td>34320.0</td>\n",
       "      <td>71130.0</td>\n",
       "      <td>366</td>\n",
       "      <td>66</td>\n",
       "    </tr>\n",
       "  </tbody>\n",
       "</table>\n",
       "</div>"
      ],
      "text/plain": [
       "         date reviewer_name  \\\n",
       "0  2009-04-23        Pamela   \n",
       "1  2009-11-21          Jean   \n",
       "2  2009-12-05          Cate   \n",
       "3  2009-12-10         Anita   \n",
       "4  2010-04-09       Kai-Uwe   \n",
       "\n",
       "                                            comments  listing_id       id  \\\n",
       "0  Artwork, indeed! The walls are covered with dr...      5803.0   1743.0   \n",
       "1  Notre séjour de trois nuits.\\r<br/>Nous avons ...      2595.0  17857.0   \n",
       "2                                  Great experience.      2595.0  19176.0   \n",
       "3  I've stayed with my friend at the Midtown Cast...      2595.0  19760.0   \n",
       "4  We've been staying here for about 9 nights, en...      2595.0  34320.0   \n",
       "\n",
       "   reviewer_id  comment_length  comment_word_count  \n",
       "0       9868.0             218                  34  \n",
       "1      50679.0             731                 124  \n",
       "2      53267.0              17                   2  \n",
       "3      38960.0             475                  90  \n",
       "4      71130.0             366                  66  "
      ]
     },
     "execution_count": 13,
     "metadata": {},
     "output_type": "execute_result"
    }
   ],
   "source": [
    "# check\n",
    "reviews_df.head()"
   ]
  },
  {
   "cell_type": "code",
   "execution_count": 14,
   "id": "109a426e-0427-48f4-a8aa-aa41b9e6c6ff",
   "metadata": {},
   "outputs": [
    {
     "data": {
      "text/html": [
       "<div>\n",
       "<style scoped>\n",
       "    .dataframe tbody tr th:only-of-type {\n",
       "        vertical-align: middle;\n",
       "    }\n",
       "\n",
       "    .dataframe tbody tr th {\n",
       "        vertical-align: top;\n",
       "    }\n",
       "\n",
       "    .dataframe thead th {\n",
       "        text-align: right;\n",
       "    }\n",
       "</style>\n",
       "<table border=\"1\" class=\"dataframe\">\n",
       "  <thead>\n",
       "    <tr style=\"text-align: right;\">\n",
       "      <th></th>\n",
       "      <th>comment_length</th>\n",
       "      <th>comment_word_count</th>\n",
       "    </tr>\n",
       "  </thead>\n",
       "  <tbody>\n",
       "    <tr>\n",
       "      <th>count</th>\n",
       "      <td>1.098459e+06</td>\n",
       "      <td>1.098459e+06</td>\n",
       "    </tr>\n",
       "    <tr>\n",
       "      <th>mean</th>\n",
       "      <td>2.530091e+02</td>\n",
       "      <td>4.445340e+01</td>\n",
       "    </tr>\n",
       "    <tr>\n",
       "      <th>std</th>\n",
       "      <td>2.733963e+02</td>\n",
       "      <td>4.896481e+01</td>\n",
       "    </tr>\n",
       "    <tr>\n",
       "      <th>min</th>\n",
       "      <td>1.000000e+00</td>\n",
       "      <td>0.000000e+00</td>\n",
       "    </tr>\n",
       "    <tr>\n",
       "      <th>25%</th>\n",
       "      <td>8.300000e+01</td>\n",
       "      <td>1.400000e+01</td>\n",
       "    </tr>\n",
       "    <tr>\n",
       "      <th>50%</th>\n",
       "      <td>1.770000e+02</td>\n",
       "      <td>3.100000e+01</td>\n",
       "    </tr>\n",
       "    <tr>\n",
       "      <th>75%</th>\n",
       "      <td>3.300000e+02</td>\n",
       "      <td>5.800000e+01</td>\n",
       "    </tr>\n",
       "    <tr>\n",
       "      <th>max</th>\n",
       "      <td>6.224000e+03</td>\n",
       "      <td>1.000000e+03</td>\n",
       "    </tr>\n",
       "  </tbody>\n",
       "</table>\n",
       "</div>"
      ],
      "text/plain": [
       "       comment_length  comment_word_count\n",
       "count    1.098459e+06        1.098459e+06\n",
       "mean     2.530091e+02        4.445340e+01\n",
       "std      2.733963e+02        4.896481e+01\n",
       "min      1.000000e+00        0.000000e+00\n",
       "25%      8.300000e+01        1.400000e+01\n",
       "50%      1.770000e+02        3.100000e+01\n",
       "75%      3.300000e+02        5.800000e+01\n",
       "max      6.224000e+03        1.000000e+03"
      ]
     },
     "execution_count": 14,
     "metadata": {},
     "output_type": "execute_result"
    }
   ],
   "source": [
    "# summary stats on the columns we just made\n",
    "reviews_df[['comment_length', 'comment_word_count']].describe()"
   ]
  },
  {
   "cell_type": "markdown",
   "id": "e16615a7-cd36-4fd4-90ad-d2418712496a",
   "metadata": {},
   "source": [
    "#### N - Grams"
   ]
  },
  {
   "cell_type": "code",
   "execution_count": 3,
   "id": "2c78bb20-40f5-4c7d-b5b8-8b7bbc028195",
   "metadata": {},
   "outputs": [],
   "source": [
    "shortened = reviews_df['comments'].head(10000)"
   ]
  },
  {
   "cell_type": "markdown",
   "id": "190c6864-56e5-4450-804e-e67f766e8a7c",
   "metadata": {},
   "source": [
    "##### Top Words"
   ]
  },
  {
   "cell_type": "code",
   "execution_count": 4,
   "id": "bd2ee12b-aa8d-48b6-a714-4d21104a9fec",
   "metadata": {},
   "outputs": [],
   "source": [
    "# source: breakfast hour notebook 1/10\n",
    "# top words for 'comments' column\n",
    "cv = CountVectorizer(stop_words = 'english')\n",
    "\n",
    "comments_vect = cv.fit_transform(shortened)\n",
    "comments_vect_df = pd.DataFrame(comments_vect.todense(), columns = cv.get_feature_names_out())"
   ]
  },
  {
   "cell_type": "code",
   "execution_count": 5,
   "id": "035d89f5-a6f5-4a29-b9c6-06f3e08af1a7",
   "metadata": {},
   "outputs": [
    {
     "data": {
      "text/plain": [
       "br           8688\n",
       "great        6090\n",
       "stay         4732\n",
       "place        4689\n",
       "apartment    4285\n",
       "location     3092\n",
       "host         2608\n",
       "room         2512\n",
       "clean        2413\n",
       "nice         2287\n",
       "dtype: int64"
      ]
     },
     "execution_count": 5,
     "metadata": {},
     "output_type": "execute_result"
    }
   ],
   "source": [
    "# Take a look at the top 10 words for 'comments'\n",
    "comments_vect_df.sum().sort_values(ascending = False).head(10)"
   ]
  },
  {
   "cell_type": "markdown",
   "id": "c2c4a352-260c-4b5e-8efb-0e4c400d80e5",
   "metadata": {},
   "source": [
    "##### Top Bigrams"
   ]
  },
  {
   "cell_type": "code",
   "execution_count": 6,
   "id": "0d43c45f-5f3b-438e-ac44-db5fc58507cc",
   "metadata": {},
   "outputs": [],
   "source": [
    "# top bigrams for 'comments'\n",
    "cv = CountVectorizer(stop_words = 'english', ngram_range = (2, 2))\n",
    "\n",
    "bi_vect = cv.fit_transform(shortened)\n",
    "bi_vect_df = pd.DataFrame(bi_vect.todense(), columns = cv.get_feature_names_out())"
   ]
  },
  {
   "cell_type": "code",
   "execution_count": 7,
   "id": "97042cf4-4c68-4397-9188-e10e94d4648b",
   "metadata": {},
   "outputs": [
    {
     "data": {
      "text/plain": [
       "br br               2504\n",
       "new york            1039\n",
       "great location       837\n",
       "highly recommend     550\n",
       "place stay           550\n",
       "great host           510\n",
       "great place          432\n",
       "definitely stay      384\n",
       "walking distance     377\n",
       "central park         309\n",
       "dtype: int64"
      ]
     },
     "execution_count": 7,
     "metadata": {},
     "output_type": "execute_result"
    }
   ],
   "source": [
    "# Take a look at the top 10 bigrams for 'comments'\n",
    "bi_vect_df.sum().sort_values(ascending = False).head(10)"
   ]
  }
 ],
 "metadata": {
  "kernelspec": {
   "display_name": "Python 3 (ipykernel)",
   "language": "python",
   "name": "python3"
  },
  "language_info": {
   "codemirror_mode": {
    "name": "ipython",
    "version": 3
   },
   "file_extension": ".py",
   "mimetype": "text/x-python",
   "name": "python",
   "nbconvert_exporter": "python",
   "pygments_lexer": "ipython3",
   "version": "3.9.13"
  }
 },
 "nbformat": 4,
 "nbformat_minor": 5
}
