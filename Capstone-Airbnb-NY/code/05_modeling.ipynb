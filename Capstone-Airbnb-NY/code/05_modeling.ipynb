{
 "cells": [
  {
   "cell_type": "markdown",
   "id": "d6f6c72f-c118-4431-b2aa-32fd66e2256b",
   "metadata": {},
   "source": [
    "# Modeling"
   ]
  },
  {
   "cell_type": "markdown",
   "id": "a0e4b6d9-2734-499d-ad4c-999e3e9abd43",
   "metadata": {},
   "source": [
    "## Imports"
   ]
  },
  {
   "cell_type": "code",
   "execution_count": 63,
   "id": "1e953445-78bd-44f6-8f1b-4b11eab18997",
   "metadata": {},
   "outputs": [],
   "source": [
    "import pandas as pd\n",
    "import matplotlib.pyplot as plt\n",
    "from sklearn.model_selection import train_test_split, GridSearchCV\n",
    "from sklearn.pipeline import Pipeline\n",
    "from sklearn.naive_bayes import MultinomialNB\n",
    "from sklearn.linear_model import LogisticRegression\n",
    "from sklearn.metrics import confusion_matrix, ConfusionMatrixDisplay, plot_confusion_matrix\n",
    "\n",
    "from sklearn.feature_extraction.text import CountVectorizer, TfidfVectorizer\n",
    "\n",
    "from nltk.corpus import stopwords\n",
    "from nltk.stem import WordNetLemmatizer\n",
    "from nltk.tokenize import word_tokenize\n",
    "\n",
    "from sklearn.neighbors import KNeighborsClassifier\n",
    "from sklearn.preprocessing import StandardScaler\n",
    "\n",
    "from sklearn.tree import DecisionTreeClassifier\n",
    "from sklearn.ensemble import RandomForestClassifier, StackingClassifier\n",
    "\n",
    "from sklearn.compose import ColumnTransformer"
   ]
  },
  {
   "cell_type": "code",
   "execution_count": 64,
   "id": "c52e04b5-3ad4-4ee1-a4e9-da0d33f8de12",
   "metadata": {},
   "outputs": [
    {
     "name": "stderr",
     "output_type": "stream",
     "text": [
      "/var/folders/bl/639jfgnd3jb_3b76z0p4htl40000gn/T/ipykernel_15840/875378248.py:2: DtypeWarning: Columns (1,3,10,35,36,38) have mixed types. Specify dtype option on import or set low_memory=False.\n",
      "  listings_df = pd.read_csv('../data/cleaned_listings.csv').drop(columns = 'Unnamed: 0')\n"
     ]
    }
   ],
   "source": [
    "# read in cleaned data again\n",
    "listings_df = pd.read_csv('../data/cleaned_listings.csv').drop(columns = 'Unnamed: 0')"
   ]
  },
  {
   "cell_type": "code",
   "execution_count": 65,
   "id": "344a67a8-f6d5-40b7-9796-42fbdaa36cbc",
   "metadata": {},
   "outputs": [
    {
     "data": {
      "text/html": [
       "<div>\n",
       "<style scoped>\n",
       "    .dataframe tbody tr th:only-of-type {\n",
       "        vertical-align: middle;\n",
       "    }\n",
       "\n",
       "    .dataframe tbody tr th {\n",
       "        vertical-align: top;\n",
       "    }\n",
       "\n",
       "    .dataframe thead th {\n",
       "        text-align: right;\n",
       "    }\n",
       "</style>\n",
       "<table border=\"1\" class=\"dataframe\">\n",
       "  <thead>\n",
       "    <tr style=\"text-align: right;\">\n",
       "      <th></th>\n",
       "      <th>id</th>\n",
       "      <th>listing_url</th>\n",
       "      <th>scrape_id</th>\n",
       "      <th>last_scraped</th>\n",
       "      <th>source</th>\n",
       "      <th>name</th>\n",
       "      <th>description</th>\n",
       "      <th>neighborhood_overview</th>\n",
       "      <th>picture_url</th>\n",
       "      <th>host_id</th>\n",
       "      <th>...</th>\n",
       "      <th>review_scores_cleanliness</th>\n",
       "      <th>review_scores_checkin</th>\n",
       "      <th>review_scores_communication</th>\n",
       "      <th>review_scores_location</th>\n",
       "      <th>review_scores_value</th>\n",
       "      <th>calculated_host_listings_count</th>\n",
       "      <th>calculated_host_listings_count_entire_homes</th>\n",
       "      <th>calculated_host_listings_count_private_rooms</th>\n",
       "      <th>calculated_host_listings_count_shared_rooms</th>\n",
       "      <th>reviews_per_month</th>\n",
       "    </tr>\n",
       "  </thead>\n",
       "  <tbody>\n",
       "    <tr>\n",
       "      <th>0</th>\n",
       "      <td>2595.0</td>\n",
       "      <td>https://www.airbnb.com/rooms/2595</td>\n",
       "      <td>20221204162430.0</td>\n",
       "      <td>2022-12-05</td>\n",
       "      <td>city scrape</td>\n",
       "      <td>Skylit Midtown Castle</td>\n",
       "      <td>Beautiful, spacious skylit studio in the heart...</td>\n",
       "      <td>Centrally located in the heart of Manhattan ju...</td>\n",
       "      <td>https://a0.muscache.com/pictures/f0813a11-40b2...</td>\n",
       "      <td>2845</td>\n",
       "      <td>...</td>\n",
       "      <td>4.63</td>\n",
       "      <td>4.77</td>\n",
       "      <td>4.8</td>\n",
       "      <td>4.81</td>\n",
       "      <td>4.4</td>\n",
       "      <td>3.0</td>\n",
       "      <td>3.0</td>\n",
       "      <td>0.0</td>\n",
       "      <td>0.0</td>\n",
       "      <td>0.31</td>\n",
       "    </tr>\n",
       "  </tbody>\n",
       "</table>\n",
       "<p>1 rows × 75 columns</p>\n",
       "</div>"
      ],
      "text/plain": [
       "       id                        listing_url         scrape_id last_scraped  \\\n",
       "0  2595.0  https://www.airbnb.com/rooms/2595  20221204162430.0   2022-12-05   \n",
       "\n",
       "        source                   name  \\\n",
       "0  city scrape  Skylit Midtown Castle   \n",
       "\n",
       "                                         description  \\\n",
       "0  Beautiful, spacious skylit studio in the heart...   \n",
       "\n",
       "                               neighborhood_overview  \\\n",
       "0  Centrally located in the heart of Manhattan ju...   \n",
       "\n",
       "                                         picture_url host_id  ...  \\\n",
       "0  https://a0.muscache.com/pictures/f0813a11-40b2...    2845  ...   \n",
       "\n",
       "  review_scores_cleanliness review_scores_checkin review_scores_communication  \\\n",
       "0                      4.63                  4.77                         4.8   \n",
       "\n",
       "  review_scores_location review_scores_value calculated_host_listings_count  \\\n",
       "0                   4.81                 4.4                            3.0   \n",
       "\n",
       "  calculated_host_listings_count_entire_homes  \\\n",
       "0                                         3.0   \n",
       "\n",
       "  calculated_host_listings_count_private_rooms  \\\n",
       "0                                          0.0   \n",
       "\n",
       "  calculated_host_listings_count_shared_rooms reviews_per_month  \n",
       "0                                         0.0              0.31  \n",
       "\n",
       "[1 rows x 75 columns]"
      ]
     },
     "execution_count": 65,
     "metadata": {},
     "output_type": "execute_result"
    }
   ],
   "source": [
    "listings_df.head(1)"
   ]
  },
  {
   "cell_type": "code",
   "execution_count": 105,
   "id": "c091b043-b233-4c42-9351-726ecd329bef",
   "metadata": {},
   "outputs": [
    {
     "data": {
      "text/plain": [
       "dtype('float64')"
      ]
     },
     "execution_count": 105,
     "metadata": {},
     "output_type": "execute_result"
    }
   ],
   "source": [
    "listings_df['price'].dtypes"
   ]
  },
  {
   "cell_type": "code",
   "execution_count": 66,
   "id": "359cd477-4c78-43e4-ba53-62453fb94abc",
   "metadata": {},
   "outputs": [
    {
     "data": {
      "text/plain": [
       "(41535, 75)"
      ]
     },
     "execution_count": 66,
     "metadata": {},
     "output_type": "execute_result"
    }
   ],
   "source": [
    "listings_df.shape"
   ]
  },
  {
   "cell_type": "code",
   "execution_count": 72,
   "id": "775a7c9d-796d-4f34-b5c0-0bf41b256486",
   "metadata": {},
   "outputs": [
    {
     "data": {
      "text/plain": [
       "$150.00      1228\n",
       "$100.00      1077\n",
       "$200.00       883\n",
       "$120.00       743\n",
       "$80.00        734\n",
       "             ... \n",
       "$588.00         1\n",
       "$1,092.00       1\n",
       "$4,311.00       1\n",
       "$522.00         1\n",
       "$2,830.00       1\n",
       "Name: price, Length: 1289, dtype: int64"
      ]
     },
     "execution_count": 72,
     "metadata": {},
     "output_type": "execute_result"
    }
   ],
   "source": [
    "listings_df['price'].value_counts()"
   ]
  },
  {
   "cell_type": "code",
   "execution_count": 73,
   "id": "bfca2b1d-e7cc-4af8-87b9-d525c3333778",
   "metadata": {},
   "outputs": [],
   "source": [
    "listings_df['price'] = listings_df['price'].replace({'\\$':''}, regex = True)"
   ]
  },
  {
   "cell_type": "code",
   "execution_count": 74,
   "id": "6d6aa646-02f6-424c-9ec7-8e5bcb0de81d",
   "metadata": {},
   "outputs": [
    {
     "data": {
      "text/plain": [
       "0    175.00\n",
       "1     75.00\n",
       "2    275.00\n",
       "3     60.00\n",
       "4     68.00\n",
       "Name: price, dtype: object"
      ]
     },
     "execution_count": 74,
     "metadata": {},
     "output_type": "execute_result"
    }
   ],
   "source": [
    "listings_df['price'].head()"
   ]
  },
  {
   "cell_type": "code",
   "execution_count": 76,
   "id": "0e31d5ed-13ef-4878-8be6-7ef1bd3df081",
   "metadata": {},
   "outputs": [],
   "source": [
    "listings_df['price'] = listings_df['price'].replace({',':''}, regex = True)"
   ]
  },
  {
   "cell_type": "code",
   "execution_count": 77,
   "id": "68ade5e1-0cb2-4c58-864a-d94b8e967291",
   "metadata": {},
   "outputs": [
    {
     "data": {
      "text/plain": [
       "0    175.00\n",
       "1     75.00\n",
       "2    275.00\n",
       "3     60.00\n",
       "4     68.00\n",
       "Name: price, dtype: object"
      ]
     },
     "execution_count": 77,
     "metadata": {},
     "output_type": "execute_result"
    }
   ],
   "source": [
    "listings_df['price'].head()"
   ]
  },
  {
   "cell_type": "code",
   "execution_count": 79,
   "id": "0cca0c29-09d8-496e-a5b8-017df0c5c604",
   "metadata": {},
   "outputs": [],
   "source": [
    "listings_df = listings_df[listings_df['price'] != ' ']"
   ]
  },
  {
   "cell_type": "code",
   "execution_count": 81,
   "id": "31e9712e-2a9c-49a5-9fa3-f5aaac54512e",
   "metadata": {},
   "outputs": [
    {
     "data": {
      "text/html": [
       "<div>\n",
       "<style scoped>\n",
       "    .dataframe tbody tr th:only-of-type {\n",
       "        vertical-align: middle;\n",
       "    }\n",
       "\n",
       "    .dataframe tbody tr th {\n",
       "        vertical-align: top;\n",
       "    }\n",
       "\n",
       "    .dataframe thead th {\n",
       "        text-align: right;\n",
       "    }\n",
       "</style>\n",
       "<table border=\"1\" class=\"dataframe\">\n",
       "  <thead>\n",
       "    <tr style=\"text-align: right;\">\n",
       "      <th></th>\n",
       "      <th>id</th>\n",
       "      <th>listing_url</th>\n",
       "      <th>scrape_id</th>\n",
       "      <th>last_scraped</th>\n",
       "      <th>source</th>\n",
       "      <th>name</th>\n",
       "      <th>description</th>\n",
       "      <th>neighborhood_overview</th>\n",
       "      <th>picture_url</th>\n",
       "      <th>host_id</th>\n",
       "      <th>...</th>\n",
       "      <th>review_scores_cleanliness</th>\n",
       "      <th>review_scores_checkin</th>\n",
       "      <th>review_scores_communication</th>\n",
       "      <th>review_scores_location</th>\n",
       "      <th>review_scores_value</th>\n",
       "      <th>calculated_host_listings_count</th>\n",
       "      <th>calculated_host_listings_count_entire_homes</th>\n",
       "      <th>calculated_host_listings_count_private_rooms</th>\n",
       "      <th>calculated_host_listings_count_shared_rooms</th>\n",
       "      <th>reviews_per_month</th>\n",
       "    </tr>\n",
       "  </thead>\n",
       "  <tbody>\n",
       "    <tr>\n",
       "      <th>7552</th>\n",
       "      <td></td>\n",
       "      <td></td>\n",
       "      <td></td>\n",
       "      <td>f</td>\n",
       "      <td>https://a0.muscache.com/im/pictures/user/19857...</td>\n",
       "      <td>https://a0.muscache.com/im/pictures/user/19857...</td>\n",
       "      <td>Williamsburg</td>\n",
       "      <td>1.0</td>\n",
       "      <td>4.0</td>\n",
       "      <td>['email', 'phone']</td>\n",
       "      <td>...</td>\n",
       "      <td>0.0</td>\n",
       "      <td>0.0</td>\n",
       "      <td>0.0</td>\n",
       "      <td>0.0</td>\n",
       "      <td>0.0</td>\n",
       "      <td>0.0</td>\n",
       "      <td>0.0</td>\n",
       "      <td>0.0</td>\n",
       "      <td>0.0</td>\n",
       "      <td>0.0</td>\n",
       "    </tr>\n",
       "  </tbody>\n",
       "</table>\n",
       "<p>1 rows × 75 columns</p>\n",
       "</div>"
      ],
      "text/plain": [
       "     id listing_url scrape_id last_scraped  \\\n",
       "7552                                     f   \n",
       "\n",
       "                                                 source  \\\n",
       "7552  https://a0.muscache.com/im/pictures/user/19857...   \n",
       "\n",
       "                                                   name   description  \\\n",
       "7552  https://a0.muscache.com/im/pictures/user/19857...  Williamsburg   \n",
       "\n",
       "     neighborhood_overview picture_url             host_id  ...  \\\n",
       "7552                   1.0         4.0  ['email', 'phone']  ...   \n",
       "\n",
       "     review_scores_cleanliness review_scores_checkin  \\\n",
       "7552                       0.0                   0.0   \n",
       "\n",
       "     review_scores_communication review_scores_location review_scores_value  \\\n",
       "7552                         0.0                    0.0                 0.0   \n",
       "\n",
       "     calculated_host_listings_count  \\\n",
       "7552                            0.0   \n",
       "\n",
       "     calculated_host_listings_count_entire_homes  \\\n",
       "7552                                         0.0   \n",
       "\n",
       "     calculated_host_listings_count_private_rooms  \\\n",
       "7552                                          0.0   \n",
       "\n",
       "     calculated_host_listings_count_shared_rooms reviews_per_month  \n",
       "7552                                         0.0               0.0  \n",
       "\n",
       "[1 rows x 75 columns]"
      ]
     },
     "execution_count": 81,
     "metadata": {},
     "output_type": "execute_result"
    }
   ],
   "source": [
    "listings_df.iloc[[7551]]"
   ]
  },
  {
   "cell_type": "code",
   "execution_count": 85,
   "id": "e9faadd6-fcc7-45dd-a955-5541058ec631",
   "metadata": {},
   "outputs": [],
   "source": [
    "listings_df = listings_df.drop(index=listings_df.iloc[7551].name)"
   ]
  },
  {
   "cell_type": "code",
   "execution_count": 87,
   "id": "530f99c5-1595-4c9b-ae5b-f41c0da3c8ee",
   "metadata": {},
   "outputs": [],
   "source": [
    "listings_df = listings_df[listings_df['price'] != '2022-12-05']"
   ]
  },
  {
   "cell_type": "code",
   "execution_count": 88,
   "id": "472cc932-99d5-490d-9920-188a884dc7e7",
   "metadata": {},
   "outputs": [],
   "source": [
    "listings_df['price'] = pd.to_numeric(listings_df['price'])"
   ]
  },
  {
   "cell_type": "code",
   "execution_count": 98,
   "id": "64737681-8f37-4454-8073-fb686a95bf52",
   "metadata": {},
   "outputs": [],
   "source": [
    "float_columns = listings_df.select_dtypes(float).columns"
   ]
  },
  {
   "cell_type": "code",
   "execution_count": 100,
   "id": "5cf39348-2965-492a-a380-dfe734a3b9b1",
   "metadata": {},
   "outputs": [],
   "source": [
    "float_columns = list(float_columns)"
   ]
  },
  {
   "cell_type": "code",
   "execution_count": 101,
   "id": "13de3fef-7a5b-436b-a9e3-3dfdca0f5a55",
   "metadata": {},
   "outputs": [],
   "source": [
    "float_columns.remove('price')"
   ]
  },
  {
   "cell_type": "code",
   "execution_count": 102,
   "id": "3d8d51a6-4821-40b0-a3e1-c24422cccad2",
   "metadata": {},
   "outputs": [],
   "source": [
    "# set up X and y\n",
    "X = listings_df[float_columns]\n",
    "y = listings_df['price']"
   ]
  },
  {
   "cell_type": "code",
   "execution_count": 103,
   "id": "4e5d01e7-882f-441a-a010-e4f39901846c",
   "metadata": {},
   "outputs": [],
   "source": [
    "# train/test split\n",
    "X_train, X_test, y_train, y_test = train_test_split(X,\n",
    "                                                    y,\n",
    "                                                    random_state=42)"
   ]
  },
  {
   "cell_type": "code",
   "execution_count": 104,
   "id": "f0c1ce95-be06-45c5-81bd-642ec830a548",
   "metadata": {},
   "outputs": [
    {
     "data": {
      "text/plain": [
       "LinearRegression()"
      ]
     },
     "execution_count": 104,
     "metadata": {},
     "output_type": "execute_result"
    }
   ],
   "source": [
    "lr = LinearRegression()\n",
    "\n",
    "lr.fit(X_train, y_train)"
   ]
  },
  {
   "cell_type": "code",
   "execution_count": 106,
   "id": "c1450f4e-f55f-4e99-ae2f-7ec84e73dee4",
   "metadata": {},
   "outputs": [
    {
     "data": {
      "text/plain": [
       "0.0401065767163582"
      ]
     },
     "execution_count": 106,
     "metadata": {},
     "output_type": "execute_result"
    }
   ],
   "source": [
    "lr.score(X_train, y_train)"
   ]
  },
  {
   "cell_type": "code",
   "execution_count": 107,
   "id": "86d59caa-c62f-427f-a207-8e257d301229",
   "metadata": {},
   "outputs": [
    {
     "data": {
      "text/plain": [
       "0.2182936456491481"
      ]
     },
     "execution_count": 107,
     "metadata": {},
     "output_type": "execute_result"
    }
   ],
   "source": [
    "lr.score(X_test, y_test)"
   ]
  },
  {
   "cell_type": "code",
   "execution_count": 108,
   "id": "18e9f4ce-77ba-4b96-99e8-d42d62be91b9",
   "metadata": {},
   "outputs": [],
   "source": [
    "# Lasso\n",
    "sc = StandardScaler()"
   ]
  },
  {
   "cell_type": "code",
   "execution_count": 110,
   "id": "f566d4b1-3f26-4ff4-a682-eb02c0c5efe2",
   "metadata": {},
   "outputs": [],
   "source": [
    "X_scaled = sc.fit_transform(X_train)"
   ]
  },
  {
   "cell_type": "code",
   "execution_count": 111,
   "id": "97fd313d-5672-41ac-9c2f-95c17f4bc3af",
   "metadata": {},
   "outputs": [],
   "source": [
    "X_test_scaled = sc.transform(X_test)"
   ]
  },
  {
   "cell_type": "code",
   "execution_count": 112,
   "id": "30abf492-c9b5-4e31-b371-3ddc20f0aca3",
   "metadata": {},
   "outputs": [],
   "source": [
    "lasso = Lasso()"
   ]
  },
  {
   "cell_type": "code",
   "execution_count": 113,
   "id": "d2b1a643-8263-4210-a78b-92795a459ba7",
   "metadata": {},
   "outputs": [
    {
     "data": {
      "text/plain": [
       "Lasso()"
      ]
     },
     "execution_count": 113,
     "metadata": {},
     "output_type": "execute_result"
    }
   ],
   "source": [
    "lasso.fit(X_scaled, y_train)"
   ]
  },
  {
   "cell_type": "code",
   "execution_count": 114,
   "id": "42b7d3c3-e95f-40b4-bde8-6349eed7acdd",
   "metadata": {},
   "outputs": [
    {
     "data": {
      "text/plain": [
       "0.03951061723132976"
      ]
     },
     "execution_count": 114,
     "metadata": {},
     "output_type": "execute_result"
    }
   ],
   "source": [
    "lasso.score(X_scaled, y_train)"
   ]
  },
  {
   "cell_type": "code",
   "execution_count": 115,
   "id": "e6523622-8e2f-49df-a168-ddf962036713",
   "metadata": {},
   "outputs": [
    {
     "data": {
      "text/plain": [
       "0.21964124883466007"
      ]
     },
     "execution_count": 115,
     "metadata": {},
     "output_type": "execute_result"
    }
   ],
   "source": [
    "lasso.score(X_test_scaled, y_test)"
   ]
  },
  {
   "cell_type": "code",
   "execution_count": 116,
   "id": "eb546875-6715-4962-9ab6-6ed7eef694e3",
   "metadata": {},
   "outputs": [],
   "source": [
    "# Ridge\n",
    "sc = StandardScaler()"
   ]
  },
  {
   "cell_type": "code",
   "execution_count": 117,
   "id": "4303562d-3e58-4ed2-855e-961e3d0dc8d8",
   "metadata": {},
   "outputs": [],
   "source": [
    "X_scaled = sc.fit_transform(X_train)\n",
    "\n",
    "X_test_scaled = sc.transform(X_test)"
   ]
  },
  {
   "cell_type": "code",
   "execution_count": 118,
   "id": "cdcdb1e0-5fa1-4d1e-bdf4-187935f35899",
   "metadata": {},
   "outputs": [],
   "source": [
    "ridge = Ridge()"
   ]
  },
  {
   "cell_type": "code",
   "execution_count": 119,
   "id": "330c0881-3a31-4f6d-a1a2-2231a14648dd",
   "metadata": {},
   "outputs": [
    {
     "data": {
      "text/plain": [
       "Ridge()"
      ]
     },
     "execution_count": 119,
     "metadata": {},
     "output_type": "execute_result"
    }
   ],
   "source": [
    "ridge.fit(X_scaled, y_train)"
   ]
  },
  {
   "cell_type": "code",
   "execution_count": 120,
   "id": "788c3d57-8f6d-47d7-bef9-8696f894345d",
   "metadata": {},
   "outputs": [
    {
     "data": {
      "text/plain": [
       "0.04010298154761838"
      ]
     },
     "execution_count": 120,
     "metadata": {},
     "output_type": "execute_result"
    }
   ],
   "source": [
    "ridge.score(X_scaled, y_train)"
   ]
  },
  {
   "cell_type": "code",
   "execution_count": 121,
   "id": "8b1e7bcb-ddcb-4029-9f62-69508250b256",
   "metadata": {},
   "outputs": [
    {
     "data": {
      "text/plain": [
       "0.21818360479499188"
      ]
     },
     "execution_count": 121,
     "metadata": {},
     "output_type": "execute_result"
    }
   ],
   "source": [
    "ridge.score(X_test_scaled, y_test)"
   ]
  },
  {
   "cell_type": "code",
   "execution_count": null,
   "id": "be2e5896-1d0e-4511-acb9-3c722c1944cc",
   "metadata": {},
   "outputs": [],
   "source": []
  }
 ],
 "metadata": {
  "kernelspec": {
   "display_name": "Python 3 (ipykernel)",
   "language": "python",
   "name": "python3"
  },
  "language_info": {
   "codemirror_mode": {
    "name": "ipython",
    "version": 3
   },
   "file_extension": ".py",
   "mimetype": "text/x-python",
   "name": "python",
   "nbconvert_exporter": "python",
   "pygments_lexer": "ipython3",
   "version": "3.9.13"
  }
 },
 "nbformat": 4,
 "nbformat_minor": 5
}
