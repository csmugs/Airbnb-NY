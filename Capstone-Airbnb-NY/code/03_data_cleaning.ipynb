{
 "cells": [
  {
   "cell_type": "markdown",
   "id": "18fc5278-9bc1-4262-a3ad-2f8bc488577a",
   "metadata": {},
   "source": [
    "# Data Cleaning"
   ]
  },
  {
   "cell_type": "markdown",
   "id": "11389352-281b-4914-876c-09f5c3837805",
   "metadata": {},
   "source": [
    "### Imports"
   ]
  },
  {
   "cell_type": "code",
   "execution_count": 19,
   "id": "30a9b155-7f1f-4c01-b1cc-c3815c72c48f",
   "metadata": {},
   "outputs": [],
   "source": [
    "import pandas as pd\n",
    "import matplotlib.pyplot as plt\n",
    "import seaborn as sns\n",
    "\n",
    "from sklearn.feature_extraction.text import CountVectorizer\n",
    "from sklearn.feature_extraction import text\n",
    "from nltk.corpus import stopwords\n",
    "from nltk.stem import WordNetLemmatizer\n",
    "from nltk.tokenize import word_tokenize\n",
    "\n",
    "import re"
   ]
  },
  {
   "cell_type": "markdown",
   "id": "98f2fd7d-57f5-4808-90dd-fcce8142629c",
   "metadata": {},
   "source": [
    "### Cleaning"
   ]
  },
  {
   "cell_type": "code",
   "execution_count": 20,
   "id": "869c2dca-f17b-4f83-9e31-4299ca7e63be",
   "metadata": {},
   "outputs": [
    {
     "name": "stderr",
     "output_type": "stream",
     "text": [
      "/var/folders/bl/639jfgnd3jb_3b76z0p4htl40000gn/T/ipykernel_15827/2279010532.py:2: DtypeWarning: Columns (0,1,3,10,36,45,46,55,69) have mixed types. Specify dtype option on import or set low_memory=False.\n",
      "  listings_df = pd.read_csv('../data/listings.csv').drop(columns = 'Unnamed: 0')\n",
      "/var/folders/bl/639jfgnd3jb_3b76z0p4htl40000gn/T/ipykernel_15827/2279010532.py:3: DtypeWarning: Columns (0) have mixed types. Specify dtype option on import or set low_memory=False.\n",
      "  reviews_df = pd.read_csv('../data/reviews.csv').drop(columns = 'Unnamed: 0')\n"
     ]
    }
   ],
   "source": [
    "# read in saved listings + reviews datasets from data collection notebook\n",
    "listings_df = pd.read_csv('../data/listings.csv').drop(columns = 'Unnamed: 0')\n",
    "reviews_df = pd.read_csv('../data/reviews.csv').drop(columns = 'Unnamed: 0')"
   ]
  },
  {
   "cell_type": "markdown",
   "id": "19f770ea-7e82-40f8-977c-59aca4a3b8ac",
   "metadata": {},
   "source": [
    "#### Listings DF"
   ]
  },
  {
   "cell_type": "code",
   "execution_count": 21,
   "id": "df0ed7f8-82d2-4518-9fbf-5cf07be85834",
   "metadata": {},
   "outputs": [
    {
     "data": {
      "text/html": [
       "<div>\n",
       "<style scoped>\n",
       "    .dataframe tbody tr th:only-of-type {\n",
       "        vertical-align: middle;\n",
       "    }\n",
       "\n",
       "    .dataframe tbody tr th {\n",
       "        vertical-align: top;\n",
       "    }\n",
       "\n",
       "    .dataframe thead th {\n",
       "        text-align: right;\n",
       "    }\n",
       "</style>\n",
       "<table border=\"1\" class=\"dataframe\">\n",
       "  <thead>\n",
       "    <tr style=\"text-align: right;\">\n",
       "      <th></th>\n",
       "      <th>id</th>\n",
       "      <th>listing_url</th>\n",
       "      <th>scrape_id</th>\n",
       "      <th>last_scraped</th>\n",
       "      <th>source</th>\n",
       "      <th>name</th>\n",
       "      <th>description</th>\n",
       "      <th>neighborhood_overview</th>\n",
       "      <th>picture_url</th>\n",
       "      <th>host_id</th>\n",
       "      <th>...</th>\n",
       "      <th>review_scores_communication</th>\n",
       "      <th>review_scores_location</th>\n",
       "      <th>review_scores_value</th>\n",
       "      <th>license</th>\n",
       "      <th>instant_bookable</th>\n",
       "      <th>calculated_host_listings_count</th>\n",
       "      <th>calculated_host_listings_count_entire_homes</th>\n",
       "      <th>calculated_host_listings_count_private_rooms</th>\n",
       "      <th>calculated_host_listings_count_shared_rooms</th>\n",
       "      <th>reviews_per_month</th>\n",
       "    </tr>\n",
       "  </thead>\n",
       "  <tbody>\n",
       "    <tr>\n",
       "      <th>0</th>\n",
       "      <td>2595.0</td>\n",
       "      <td>https://www.airbnb.com/rooms/2595</td>\n",
       "      <td>20221204162430.0</td>\n",
       "      <td>2022-12-05</td>\n",
       "      <td>city scrape</td>\n",
       "      <td>Skylit Midtown Castle</td>\n",
       "      <td>Beautiful, spacious skylit studio in the heart...</td>\n",
       "      <td>Centrally located in the heart of Manhattan ju...</td>\n",
       "      <td>https://a0.muscache.com/pictures/f0813a11-40b2...</td>\n",
       "      <td>2845</td>\n",
       "      <td>...</td>\n",
       "      <td>4.8</td>\n",
       "      <td>4.81</td>\n",
       "      <td>4.4</td>\n",
       "      <td>NaN</td>\n",
       "      <td>f</td>\n",
       "      <td>3.0</td>\n",
       "      <td>3.0</td>\n",
       "      <td>0.0</td>\n",
       "      <td>0.0</td>\n",
       "      <td>0.31</td>\n",
       "    </tr>\n",
       "  </tbody>\n",
       "</table>\n",
       "<p>1 rows × 75 columns</p>\n",
       "</div>"
      ],
      "text/plain": [
       "       id                        listing_url         scrape_id last_scraped  \\\n",
       "0  2595.0  https://www.airbnb.com/rooms/2595  20221204162430.0   2022-12-05   \n",
       "\n",
       "        source                   name  \\\n",
       "0  city scrape  Skylit Midtown Castle   \n",
       "\n",
       "                                         description  \\\n",
       "0  Beautiful, spacious skylit studio in the heart...   \n",
       "\n",
       "                               neighborhood_overview  \\\n",
       "0  Centrally located in the heart of Manhattan ju...   \n",
       "\n",
       "                                         picture_url host_id  ...  \\\n",
       "0  https://a0.muscache.com/pictures/f0813a11-40b2...    2845  ...   \n",
       "\n",
       "  review_scores_communication review_scores_location review_scores_value  \\\n",
       "0                         4.8                   4.81                 4.4   \n",
       "\n",
       "  license instant_bookable calculated_host_listings_count  \\\n",
       "0     NaN                f                            3.0   \n",
       "\n",
       "  calculated_host_listings_count_entire_homes  \\\n",
       "0                                         3.0   \n",
       "\n",
       "  calculated_host_listings_count_private_rooms  \\\n",
       "0                                          0.0   \n",
       "\n",
       "  calculated_host_listings_count_shared_rooms reviews_per_month  \n",
       "0                                         0.0              0.31  \n",
       "\n",
       "[1 rows x 75 columns]"
      ]
     },
     "execution_count": 21,
     "metadata": {},
     "output_type": "execute_result"
    }
   ],
   "source": [
    "# check first\n",
    "listings_df.head(1)"
   ]
  },
  {
   "cell_type": "code",
   "execution_count": 22,
   "id": "7064b25d-bffb-4336-93be-571d9dd49a76",
   "metadata": {},
   "outputs": [
    {
     "data": {
      "text/html": [
       "<div>\n",
       "<style scoped>\n",
       "    .dataframe tbody tr th:only-of-type {\n",
       "        vertical-align: middle;\n",
       "    }\n",
       "\n",
       "    .dataframe tbody tr th {\n",
       "        vertical-align: top;\n",
       "    }\n",
       "\n",
       "    .dataframe thead th {\n",
       "        text-align: right;\n",
       "    }\n",
       "</style>\n",
       "<table border=\"1\" class=\"dataframe\">\n",
       "  <thead>\n",
       "    <tr style=\"text-align: right;\">\n",
       "      <th></th>\n",
       "      <th>id</th>\n",
       "      <th>listing_url</th>\n",
       "      <th>scrape_id</th>\n",
       "      <th>last_scraped</th>\n",
       "      <th>source</th>\n",
       "      <th>name</th>\n",
       "      <th>description</th>\n",
       "      <th>neighborhood_overview</th>\n",
       "      <th>picture_url</th>\n",
       "      <th>host_id</th>\n",
       "      <th>...</th>\n",
       "      <th>review_scores_communication</th>\n",
       "      <th>review_scores_location</th>\n",
       "      <th>review_scores_value</th>\n",
       "      <th>license</th>\n",
       "      <th>instant_bookable</th>\n",
       "      <th>calculated_host_listings_count</th>\n",
       "      <th>calculated_host_listings_count_entire_homes</th>\n",
       "      <th>calculated_host_listings_count_private_rooms</th>\n",
       "      <th>calculated_host_listings_count_shared_rooms</th>\n",
       "      <th>reviews_per_month</th>\n",
       "    </tr>\n",
       "  </thead>\n",
       "  <tbody>\n",
       "    <tr>\n",
       "      <th>41534</th>\n",
       "      <td>772716724205003579</td>\n",
       "      <td>https://www.airbnb.com/rooms/772716724205003579</td>\n",
       "      <td>20221204162430</td>\n",
       "      <td>2022-12-05</td>\n",
       "      <td>city scrape</td>\n",
       "      <td>2 bedroom Condo near West Village</td>\n",
       "      <td>This beautifully decorated condo will give you...</td>\n",
       "      <td>NaN</td>\n",
       "      <td>https://a0.muscache.com/pictures/miso/Hosting-...</td>\n",
       "      <td>481177884</td>\n",
       "      <td>...</td>\n",
       "      <td>NaN</td>\n",
       "      <td>NaN</td>\n",
       "      <td>NaN</td>\n",
       "      <td>NaN</td>\n",
       "      <td>t</td>\n",
       "      <td>2.0</td>\n",
       "      <td>2.0</td>\n",
       "      <td>0.0</td>\n",
       "      <td>0.0</td>\n",
       "      <td>NaN</td>\n",
       "    </tr>\n",
       "  </tbody>\n",
       "</table>\n",
       "<p>1 rows × 75 columns</p>\n",
       "</div>"
      ],
      "text/plain": [
       "                       id                                      listing_url  \\\n",
       "41534  772716724205003579  https://www.airbnb.com/rooms/772716724205003579   \n",
       "\n",
       "            scrape_id last_scraped       source  \\\n",
       "41534  20221204162430   2022-12-05  city scrape   \n",
       "\n",
       "                                    name  \\\n",
       "41534  2 bedroom Condo near West Village   \n",
       "\n",
       "                                             description  \\\n",
       "41534  This beautifully decorated condo will give you...   \n",
       "\n",
       "      neighborhood_overview  \\\n",
       "41534                   NaN   \n",
       "\n",
       "                                             picture_url    host_id  ...  \\\n",
       "41534  https://a0.muscache.com/pictures/miso/Hosting-...  481177884  ...   \n",
       "\n",
       "      review_scores_communication review_scores_location review_scores_value  \\\n",
       "41534                         NaN                    NaN                 NaN   \n",
       "\n",
       "      license instant_bookable calculated_host_listings_count  \\\n",
       "41534     NaN                t                            2.0   \n",
       "\n",
       "      calculated_host_listings_count_entire_homes  \\\n",
       "41534                                         2.0   \n",
       "\n",
       "      calculated_host_listings_count_private_rooms  \\\n",
       "41534                                          0.0   \n",
       "\n",
       "      calculated_host_listings_count_shared_rooms reviews_per_month  \n",
       "41534                                         0.0               NaN  \n",
       "\n",
       "[1 rows x 75 columns]"
      ]
     },
     "execution_count": 22,
     "metadata": {},
     "output_type": "execute_result"
    }
   ],
   "source": [
    "# check last\n",
    "listings_df.tail(1)"
   ]
  },
  {
   "cell_type": "code",
   "execution_count": 23,
   "id": "12fefe79-47b0-49ba-a6b2-046cc54b588b",
   "metadata": {},
   "outputs": [
    {
     "data": {
      "text/plain": [
       "id                                               object\n",
       "listing_url                                      object\n",
       "scrape_id                                        object\n",
       "last_scraped                                     object\n",
       "source                                           object\n",
       "                                                 ...   \n",
       "calculated_host_listings_count                  float64\n",
       "calculated_host_listings_count_entire_homes     float64\n",
       "calculated_host_listings_count_private_rooms    float64\n",
       "calculated_host_listings_count_shared_rooms     float64\n",
       "reviews_per_month                               float64\n",
       "Length: 75, dtype: object"
      ]
     },
     "execution_count": 23,
     "metadata": {},
     "output_type": "execute_result"
    }
   ],
   "source": [
    "listings_df.dtypes"
   ]
  },
  {
   "cell_type": "code",
   "execution_count": 24,
   "id": "ed51ff69-38de-4816-a1d2-10223f3ad37b",
   "metadata": {},
   "outputs": [
    {
     "data": {
      "text/plain": [
       "(41535, 75)"
      ]
     },
     "execution_count": 24,
     "metadata": {},
     "output_type": "execute_result"
    }
   ],
   "source": [
    "listings_df.shape"
   ]
  },
  {
   "cell_type": "code",
   "execution_count": 25,
   "id": "78159b0a-e69a-4357-9cdb-00ea04480ed3",
   "metadata": {},
   "outputs": [
    {
     "data": {
      "text/plain": [
       "id                                                 1\n",
       "listing_url                                        1\n",
       "scrape_id                                          1\n",
       "last_scraped                                       0\n",
       "source                                             0\n",
       "                                                ... \n",
       "calculated_host_listings_count                     4\n",
       "calculated_host_listings_count_entire_homes        4\n",
       "calculated_host_listings_count_private_rooms       4\n",
       "calculated_host_listings_count_shared_rooms        4\n",
       "reviews_per_month                               9396\n",
       "Length: 75, dtype: int64"
      ]
     },
     "execution_count": 25,
     "metadata": {},
     "output_type": "execute_result"
    }
   ],
   "source": [
    "# check for missing values\n",
    "listings_df.isnull().sum()"
   ]
  },
  {
   "cell_type": "markdown",
   "id": "b487d466-0172-4fd0-8acc-8a53c5ed47db",
   "metadata": {},
   "source": [
    "##### Note: A fair amount of missing values in reviews_per_month. The other missing values are insignificant to the entirety of the dataset. Can fill missing values in with 0's and ' '."
   ]
  },
  {
   "cell_type": "code",
   "execution_count": 26,
   "id": "c90313a7-2e0d-4397-94d8-97105843c45b",
   "metadata": {},
   "outputs": [
    {
     "data": {
      "text/plain": [
       "12212"
      ]
     },
     "execution_count": 26,
     "metadata": {},
     "output_type": "execute_result"
    }
   ],
   "source": [
    "listings_df['host_acceptance_rate'].isnull().sum()"
   ]
  },
  {
   "cell_type": "code",
   "execution_count": 43,
   "id": "0ee8084d-26b8-4a05-a53f-d56d3d062ab8",
   "metadata": {
    "scrolled": true,
    "tags": []
   },
   "outputs": [
    {
     "name": "stdout",
     "output_type": "stream",
     "text": [
      "<class 'pandas.core.frame.DataFrame'>\n",
      "RangeIndex: 41535 entries, 0 to 41534\n",
      "Data columns (total 75 columns):\n",
      " #   Column                                        Non-Null Count  Dtype  \n",
      "---  ------                                        --------------  -----  \n",
      " 0   id                                            41534 non-null  object \n",
      " 1   listing_url                                   41534 non-null  object \n",
      " 2   scrape_id                                     41534 non-null  object \n",
      " 3   last_scraped                                  41535 non-null  object \n",
      " 4   source                                        41535 non-null  object \n",
      " 5   name                                          41522 non-null  object \n",
      " 6   description                                   40748 non-null  object \n",
      " 7   neighborhood_overview                         24091 non-null  object \n",
      " 8   picture_url                                   41535 non-null  object \n",
      " 9   host_id                                       41535 non-null  object \n",
      " 10  host_url                                      41535 non-null  object \n",
      " 11  host_name                                     41530 non-null  object \n",
      " 12  host_since                                    41529 non-null  object \n",
      " 13  host_location                                 33790 non-null  object \n",
      " 14  host_about                                    23223 non-null  object \n",
      " 15  host_response_time                            27889 non-null  object \n",
      " 16  host_response_rate                            27889 non-null  object \n",
      " 17  host_acceptance_rate                          29323 non-null  object \n",
      " 18  host_is_superhost                             41504 non-null  object \n",
      " 19  host_thumbnail_url                            41528 non-null  object \n",
      " 20  host_picture_url                              41526 non-null  object \n",
      " 21  host_neighbourhood                            33345 non-null  object \n",
      " 22  host_listings_count                           41528 non-null  float64\n",
      " 23  host_total_listings_count                     41528 non-null  float64\n",
      " 24  host_verifications                            41533 non-null  object \n",
      " 25  host_has_profile_pic                          41528 non-null  object \n",
      " 26  host_identity_verified                        41528 non-null  object \n",
      " 27  neighbourhood                                 24091 non-null  object \n",
      " 28  neighbourhood_cleansed                        41533 non-null  object \n",
      " 29  neighbourhood_group_cleansed                  41533 non-null  object \n",
      " 30  latitude                                      41533 non-null  float64\n",
      " 31  longitude                                     41533 non-null  float64\n",
      " 32  property_type                                 41533 non-null  object \n",
      " 33  room_type                                     41533 non-null  object \n",
      " 34  accommodates                                  41531 non-null  float64\n",
      " 35  bathrooms                                     2 non-null      object \n",
      " 36  bathrooms_text                                41456 non-null  object \n",
      " 37  bedrooms                                      37711 non-null  float64\n",
      " 38  beds                                          40592 non-null  float64\n",
      " 39  amenities                                     41533 non-null  object \n",
      " 40  price                                         41533 non-null  object \n",
      " 41  minimum_nights                                41533 non-null  float64\n",
      " 42  maximum_nights                                41533 non-null  float64\n",
      " 43  minimum_minimum_nights                        41519 non-null  float64\n",
      " 44  maximum_minimum_nights                        41518 non-null  object \n",
      " 45  minimum_maximum_nights                        41518 non-null  object \n",
      " 46  maximum_maximum_nights                        41518 non-null  float64\n",
      " 47  minimum_nights_avg_ntm                        41518 non-null  float64\n",
      " 48  maximum_nights_avg_ntm                        41518 non-null  float64\n",
      " 49  calendar_updated                              1 non-null      float64\n",
      " 50  has_availability                              41532 non-null  object \n",
      " 51  availability_30                               41532 non-null  float64\n",
      " 52  availability_60                               41532 non-null  float64\n",
      " 53  availability_90                               41531 non-null  float64\n",
      " 54  availability_365                              41533 non-null  object \n",
      " 55  calendar_last_scraped                         41533 non-null  object \n",
      " 56  number_of_reviews                             41533 non-null  float64\n",
      " 57  number_of_reviews_ltm                         41533 non-null  float64\n",
      " 58  number_of_reviews_l30d                        41533 non-null  float64\n",
      " 59  first_review                                  32140 non-null  object \n",
      " 60  last_review                                   32139 non-null  object \n",
      " 61  review_scores_rating                          32139 non-null  float64\n",
      " 62  review_scores_accuracy                        31691 non-null  float64\n",
      " 63  review_scores_cleanliness                     31701 non-null  float64\n",
      " 64  review_scores_checkin                         31687 non-null  float64\n",
      " 65  review_scores_communication                   31696 non-null  float64\n",
      " 66  review_scores_location                        31684 non-null  float64\n",
      " 67  review_scores_value                           31684 non-null  float64\n",
      " 68  license                                       1 non-null      object \n",
      " 69  instant_bookable                              41531 non-null  object \n",
      " 70  calculated_host_listings_count                41531 non-null  float64\n",
      " 71  calculated_host_listings_count_entire_homes   41531 non-null  float64\n",
      " 72  calculated_host_listings_count_private_rooms  41531 non-null  float64\n",
      " 73  calculated_host_listings_count_shared_rooms   41531 non-null  float64\n",
      " 74  reviews_per_month                             32139 non-null  float64\n",
      "dtypes: float64(32), object(43)\n",
      "memory usage: 23.8+ MB\n"
     ]
    }
   ],
   "source": [
    "listings_df.info()"
   ]
  },
  {
   "cell_type": "markdown",
   "id": "93677daa-c51c-4d07-95c5-c0997981c530",
   "metadata": {},
   "source": [
    "##### Check what missing values need to be 0's and which ones should be ' '"
   ]
  },
  {
   "cell_type": "code",
   "execution_count": 89,
   "id": "c29411de-ef69-4d1f-9689-46be594569a2",
   "metadata": {},
   "outputs": [
    {
     "data": {
      "text/plain": [
       "Index(['host_listings_count', 'host_total_listings_count', 'latitude',\n",
       "       'longitude', 'accommodates', 'bedrooms', 'beds', 'minimum_nights',\n",
       "       'maximum_nights', 'minimum_minimum_nights', 'maximum_maximum_nights',\n",
       "       'minimum_nights_avg_ntm', 'maximum_nights_avg_ntm', 'calendar_updated',\n",
       "       'availability_30', 'availability_60', 'availability_90',\n",
       "       'number_of_reviews', 'number_of_reviews_ltm', 'number_of_reviews_l30d',\n",
       "       'review_scores_rating', 'review_scores_accuracy',\n",
       "       'review_scores_cleanliness', 'review_scores_checkin',\n",
       "       'review_scores_communication', 'review_scores_location',\n",
       "       'review_scores_value', 'calculated_host_listings_count',\n",
       "       'calculated_host_listings_count_entire_homes',\n",
       "       'calculated_host_listings_count_private_rooms',\n",
       "       'calculated_host_listings_count_shared_rooms', 'reviews_per_month'],\n",
       "      dtype='object')"
      ]
     },
     "execution_count": 89,
     "metadata": {},
     "output_type": "execute_result"
    }
   ],
   "source": [
    "float_df = listings_df.select_dtypes(include = float, exclude = object)\n",
    "\n",
    "listings_df.select_dtypes(include = float, exclude = object).columns"
   ]
  },
  {
   "cell_type": "code",
   "execution_count": 90,
   "id": "a8ea5f8f-bf81-451d-9154-e42c90565d78",
   "metadata": {},
   "outputs": [
    {
     "data": {
      "text/plain": [
       "Index(['id', 'listing_url', 'scrape_id', 'last_scraped', 'source', 'name',\n",
       "       'description', 'neighborhood_overview', 'picture_url', 'host_id',\n",
       "       'host_url', 'host_name', 'host_since', 'host_location', 'host_about',\n",
       "       'host_response_time', 'host_response_rate', 'host_acceptance_rate',\n",
       "       'host_is_superhost', 'host_thumbnail_url', 'host_picture_url',\n",
       "       'host_neighbourhood', 'host_verifications', 'host_has_profile_pic',\n",
       "       'host_identity_verified', 'neighbourhood', 'neighbourhood_cleansed',\n",
       "       'neighbourhood_group_cleansed', 'property_type', 'room_type',\n",
       "       'bathrooms', 'bathrooms_text', 'amenities', 'price',\n",
       "       'maximum_minimum_nights', 'minimum_maximum_nights', 'has_availability',\n",
       "       'availability_365', 'calendar_last_scraped', 'first_review',\n",
       "       'last_review', 'license', 'instant_bookable'],\n",
       "      dtype='object')"
      ]
     },
     "execution_count": 90,
     "metadata": {},
     "output_type": "execute_result"
    }
   ],
   "source": [
    "object_df = listings_df.select_dtypes(include = object, exclude = float)\n",
    "\n",
    "listings_df.select_dtypes(include = object, exclude = float).columns"
   ]
  },
  {
   "cell_type": "code",
   "execution_count": 71,
   "id": "74c453c0-a8e9-4d39-b925-16349574ea8f",
   "metadata": {
    "scrolled": true,
    "tags": []
   },
   "outputs": [
    {
     "data": {
      "text/plain": [
       "id                              0\n",
       "listing_url                     0\n",
       "scrape_id                       0\n",
       "last_scraped                    0\n",
       "source                          0\n",
       "name                            0\n",
       "description                     0\n",
       "neighborhood_overview           0\n",
       "picture_url                     0\n",
       "host_id                         0\n",
       "host_url                        0\n",
       "host_name                       0\n",
       "host_since                      0\n",
       "host_location                   0\n",
       "host_about                      0\n",
       "host_response_time              0\n",
       "host_response_rate              0\n",
       "host_acceptance_rate            0\n",
       "host_is_superhost               0\n",
       "host_thumbnail_url              0\n",
       "host_picture_url                0\n",
       "host_neighbourhood              0\n",
       "host_verifications              0\n",
       "host_has_profile_pic            0\n",
       "host_identity_verified          0\n",
       "neighbourhood                   0\n",
       "neighbourhood_cleansed          0\n",
       "neighbourhood_group_cleansed    0\n",
       "property_type                   0\n",
       "room_type                       0\n",
       "bathrooms                       0\n",
       "bathrooms_text                  0\n",
       "amenities                       0\n",
       "price                           0\n",
       "maximum_minimum_nights          0\n",
       "minimum_maximum_nights          0\n",
       "has_availability                0\n",
       "availability_365                0\n",
       "calendar_last_scraped           0\n",
       "first_review                    0\n",
       "last_review                     0\n",
       "license                         0\n",
       "instant_bookable                0\n",
       "dtype: int64"
      ]
     },
     "execution_count": 71,
     "metadata": {},
     "output_type": "execute_result"
    }
   ],
   "source": [
    "# replace missing object values with ' '\n",
    "object_df.fillna(' ', inplace = True)\n",
    "\n",
    "# check\n",
    "object_df.isnull().sum()"
   ]
  },
  {
   "cell_type": "code",
   "execution_count": 72,
   "id": "57094d61-e5f2-4a7e-8522-d2b82f731309",
   "metadata": {},
   "outputs": [
    {
     "data": {
      "text/plain": [
       "(41535, 43)"
      ]
     },
     "execution_count": 72,
     "metadata": {},
     "output_type": "execute_result"
    }
   ],
   "source": [
    "object_df.shape"
   ]
  },
  {
   "cell_type": "code",
   "execution_count": 73,
   "id": "b0153f7c-185e-400a-bb44-68d8d00ad452",
   "metadata": {
    "scrolled": true,
    "tags": []
   },
   "outputs": [
    {
     "data": {
      "text/plain": [
       "host_listings_count                             0\n",
       "host_total_listings_count                       0\n",
       "latitude                                        0\n",
       "longitude                                       0\n",
       "accommodates                                    0\n",
       "bedrooms                                        0\n",
       "beds                                            0\n",
       "minimum_nights                                  0\n",
       "maximum_nights                                  0\n",
       "minimum_minimum_nights                          0\n",
       "maximum_maximum_nights                          0\n",
       "minimum_nights_avg_ntm                          0\n",
       "maximum_nights_avg_ntm                          0\n",
       "calendar_updated                                0\n",
       "availability_30                                 0\n",
       "availability_60                                 0\n",
       "availability_90                                 0\n",
       "number_of_reviews                               0\n",
       "number_of_reviews_ltm                           0\n",
       "number_of_reviews_l30d                          0\n",
       "review_scores_rating                            0\n",
       "review_scores_accuracy                          0\n",
       "review_scores_cleanliness                       0\n",
       "review_scores_checkin                           0\n",
       "review_scores_communication                     0\n",
       "review_scores_location                          0\n",
       "review_scores_value                             0\n",
       "calculated_host_listings_count                  0\n",
       "calculated_host_listings_count_entire_homes     0\n",
       "calculated_host_listings_count_private_rooms    0\n",
       "calculated_host_listings_count_shared_rooms     0\n",
       "reviews_per_month                               0\n",
       "dtype: int64"
      ]
     },
     "execution_count": 73,
     "metadata": {},
     "output_type": "execute_result"
    }
   ],
   "source": [
    "# replace missing float values with 0\n",
    "float_df.fillna(0, inplace = True)\n",
    "\n",
    "# check\n",
    "float_df.isnull().sum()"
   ]
  },
  {
   "cell_type": "code",
   "execution_count": 74,
   "id": "b44c3ecb-e9f0-49e9-af16-00523bfb009a",
   "metadata": {},
   "outputs": [
    {
     "data": {
      "text/plain": [
       "(41535, 32)"
      ]
     },
     "execution_count": 74,
     "metadata": {},
     "output_type": "execute_result"
    }
   ],
   "source": [
    "float_df.shape"
   ]
  },
  {
   "cell_type": "markdown",
   "id": "25b00971-391f-48b5-a774-40bead445858",
   "metadata": {},
   "source": [
    "##### Now concatenate object_df and float_df back into the listings_df since there are no more missing values."
   ]
  },
  {
   "cell_type": "code",
   "execution_count": 76,
   "id": "fa1f1beb-c541-4543-b037-c10098f84235",
   "metadata": {},
   "outputs": [
    {
     "data": {
      "text/plain": [
       "id                                              0\n",
       "listing_url                                     0\n",
       "scrape_id                                       0\n",
       "last_scraped                                    0\n",
       "source                                          0\n",
       "                                               ..\n",
       "calculated_host_listings_count                  0\n",
       "calculated_host_listings_count_entire_homes     0\n",
       "calculated_host_listings_count_private_rooms    0\n",
       "calculated_host_listings_count_shared_rooms     0\n",
       "reviews_per_month                               0\n",
       "Length: 75, dtype: int64"
      ]
     },
     "execution_count": 76,
     "metadata": {},
     "output_type": "execute_result"
    }
   ],
   "source": [
    "listings_df = pd.concat([object_df,float_df], axis = 1) # left/right\n",
    "\n",
    "# check\n",
    "listings_df.isnull().sum()"
   ]
  },
  {
   "cell_type": "markdown",
   "id": "346c42f2-db90-4833-b3e9-10a2296c87b2",
   "metadata": {},
   "source": [
    "##### Save to cleaned csv"
   ]
  },
  {
   "cell_type": "code",
   "execution_count": 84,
   "id": "d8eeb595-6b11-4278-9bfc-b969ca47854d",
   "metadata": {},
   "outputs": [],
   "source": [
    "# save\n",
    "listings_df.to_csv('../data/cleaned_listings.csv')"
   ]
  },
  {
   "cell_type": "markdown",
   "id": "9f79b2f0-ce8c-4a87-aa93-047ed2aa0c97",
   "metadata": {},
   "source": [
    "--- "
   ]
  },
  {
   "cell_type": "markdown",
   "id": "0acf4cb0-e454-4c53-937b-8ef87b73a5f0",
   "metadata": {},
   "source": [
    "#### Reviews DF"
   ]
  },
  {
   "cell_type": "code",
   "execution_count": 9,
   "id": "72b0659b-24f6-4e79-bc6f-f3e60e9b7384",
   "metadata": {},
   "outputs": [
    {
     "data": {
      "text/html": [
       "<div>\n",
       "<style scoped>\n",
       "    .dataframe tbody tr th:only-of-type {\n",
       "        vertical-align: middle;\n",
       "    }\n",
       "\n",
       "    .dataframe tbody tr th {\n",
       "        vertical-align: top;\n",
       "    }\n",
       "\n",
       "    .dataframe thead th {\n",
       "        text-align: right;\n",
       "    }\n",
       "</style>\n",
       "<table border=\"1\" class=\"dataframe\">\n",
       "  <thead>\n",
       "    <tr style=\"text-align: right;\">\n",
       "      <th></th>\n",
       "      <th>listing_id</th>\n",
       "      <th>id</th>\n",
       "      <th>date</th>\n",
       "      <th>reviewer_id</th>\n",
       "      <th>reviewer_name</th>\n",
       "      <th>comments</th>\n",
       "    </tr>\n",
       "  </thead>\n",
       "  <tbody>\n",
       "    <tr>\n",
       "      <th>0</th>\n",
       "      <td>5803.0</td>\n",
       "      <td>1743.0</td>\n",
       "      <td>2009-04-23</td>\n",
       "      <td>9868.0</td>\n",
       "      <td>Pamela</td>\n",
       "      <td>Artwork, indeed! The walls are covered with dr...</td>\n",
       "    </tr>\n",
       "    <tr>\n",
       "      <th>1</th>\n",
       "      <td>2595.0</td>\n",
       "      <td>17857.0</td>\n",
       "      <td>2009-11-21</td>\n",
       "      <td>50679.0</td>\n",
       "      <td>Jean</td>\n",
       "      <td>Notre séjour de trois nuits.\\r&lt;br/&gt;Nous avons ...</td>\n",
       "    </tr>\n",
       "    <tr>\n",
       "      <th>2</th>\n",
       "      <td>2595.0</td>\n",
       "      <td>19176.0</td>\n",
       "      <td>2009-12-05</td>\n",
       "      <td>53267.0</td>\n",
       "      <td>Cate</td>\n",
       "      <td>Great experience.</td>\n",
       "    </tr>\n",
       "    <tr>\n",
       "      <th>3</th>\n",
       "      <td>2595.0</td>\n",
       "      <td>19760.0</td>\n",
       "      <td>2009-12-10</td>\n",
       "      <td>38960.0</td>\n",
       "      <td>Anita</td>\n",
       "      <td>I've stayed with my friend at the Midtown Cast...</td>\n",
       "    </tr>\n",
       "    <tr>\n",
       "      <th>4</th>\n",
       "      <td>2595.0</td>\n",
       "      <td>34320.0</td>\n",
       "      <td>2010-04-09</td>\n",
       "      <td>71130.0</td>\n",
       "      <td>Kai-Uwe</td>\n",
       "      <td>We've been staying here for about 9 nights, en...</td>\n",
       "    </tr>\n",
       "  </tbody>\n",
       "</table>\n",
       "</div>"
      ],
      "text/plain": [
       "   listing_id       id        date  reviewer_id reviewer_name  \\\n",
       "0      5803.0   1743.0  2009-04-23       9868.0        Pamela   \n",
       "1      2595.0  17857.0  2009-11-21      50679.0          Jean   \n",
       "2      2595.0  19176.0  2009-12-05      53267.0          Cate   \n",
       "3      2595.0  19760.0  2009-12-10      38960.0         Anita   \n",
       "4      2595.0  34320.0  2010-04-09      71130.0       Kai-Uwe   \n",
       "\n",
       "                                            comments  \n",
       "0  Artwork, indeed! The walls are covered with dr...  \n",
       "1  Notre séjour de trois nuits.\\r<br/>Nous avons ...  \n",
       "2                                  Great experience.  \n",
       "3  I've stayed with my friend at the Midtown Cast...  \n",
       "4  We've been staying here for about 9 nights, en...  "
      ]
     },
     "execution_count": 9,
     "metadata": {},
     "output_type": "execute_result"
    }
   ],
   "source": [
    "# check first 5\n",
    "reviews_df.head()"
   ]
  },
  {
   "cell_type": "code",
   "execution_count": 8,
   "id": "fa51497c-9789-4308-973f-778495906081",
   "metadata": {},
   "outputs": [
    {
     "data": {
      "text/html": [
       "<div>\n",
       "<style scoped>\n",
       "    .dataframe tbody tr th:only-of-type {\n",
       "        vertical-align: middle;\n",
       "    }\n",
       "\n",
       "    .dataframe tbody tr th {\n",
       "        vertical-align: top;\n",
       "    }\n",
       "\n",
       "    .dataframe thead th {\n",
       "        text-align: right;\n",
       "    }\n",
       "</style>\n",
       "<table border=\"1\" class=\"dataframe\">\n",
       "  <thead>\n",
       "    <tr style=\"text-align: right;\">\n",
       "      <th></th>\n",
       "      <th>listing_id</th>\n",
       "      <th>id</th>\n",
       "      <th>date</th>\n",
       "      <th>reviewer_id</th>\n",
       "      <th>reviewer_name</th>\n",
       "      <th>comments</th>\n",
       "    </tr>\n",
       "  </thead>\n",
       "  <tbody>\n",
       "    <tr>\n",
       "      <th>1098454</th>\n",
       "      <td>7.654618e+17</td>\n",
       "      <td>7.688403e+17</td>\n",
       "      <td>2022-11-26</td>\n",
       "      <td>79496346.0</td>\n",
       "      <td>Sophie</td>\n",
       "      <td>It was a nice, clean place to stay. The host w...</td>\n",
       "    </tr>\n",
       "    <tr>\n",
       "      <th>1098455</th>\n",
       "      <td>7.655884e+17</td>\n",
       "      <td>7.695908e+17</td>\n",
       "      <td>2022-11-27</td>\n",
       "      <td>376890617.0</td>\n",
       "      <td>Mark</td>\n",
       "      <td>Lori was absolutely amazing.  After two of our...</td>\n",
       "    </tr>\n",
       "    <tr>\n",
       "      <th>1098456</th>\n",
       "      <td>7.656736e+17</td>\n",
       "      <td>7.703491e+17</td>\n",
       "      <td>2022-11-28</td>\n",
       "      <td>365712189.0</td>\n",
       "      <td>Jasmine</td>\n",
       "      <td>Great stay Definitely would recommend this hom...</td>\n",
       "    </tr>\n",
       "    <tr>\n",
       "      <th>1098457</th>\n",
       "      <td>7.658073e+17</td>\n",
       "      <td>7.681075e+17</td>\n",
       "      <td>2022-11-25</td>\n",
       "      <td>274862833.0</td>\n",
       "      <td>Maria</td>\n",
       "      <td>Todo muy lindo ,limpio y muy agradable!! El an...</td>\n",
       "    </tr>\n",
       "    <tr>\n",
       "      <th>1098458</th>\n",
       "      <td>7.658073e+17</td>\n",
       "      <td>7.696277e+17</td>\n",
       "      <td>2022-11-27</td>\n",
       "      <td>94373771.0</td>\n",
       "      <td>Victor</td>\n",
       "      <td>Departamento bien equipado, el anfitrion estuv...</td>\n",
       "    </tr>\n",
       "  </tbody>\n",
       "</table>\n",
       "</div>"
      ],
      "text/plain": [
       "           listing_id            id        date  reviewer_id reviewer_name  \\\n",
       "1098454  7.654618e+17  7.688403e+17  2022-11-26   79496346.0        Sophie   \n",
       "1098455  7.655884e+17  7.695908e+17  2022-11-27  376890617.0          Mark   \n",
       "1098456  7.656736e+17  7.703491e+17  2022-11-28  365712189.0       Jasmine   \n",
       "1098457  7.658073e+17  7.681075e+17  2022-11-25  274862833.0         Maria   \n",
       "1098458  7.658073e+17  7.696277e+17  2022-11-27   94373771.0        Victor   \n",
       "\n",
       "                                                  comments  \n",
       "1098454  It was a nice, clean place to stay. The host w...  \n",
       "1098455  Lori was absolutely amazing.  After two of our...  \n",
       "1098456  Great stay Definitely would recommend this hom...  \n",
       "1098457  Todo muy lindo ,limpio y muy agradable!! El an...  \n",
       "1098458  Departamento bien equipado, el anfitrion estuv...  "
      ]
     },
     "execution_count": 8,
     "metadata": {},
     "output_type": "execute_result"
    }
   ],
   "source": [
    "# check last 5\n",
    "reviews_df.tail()"
   ]
  },
  {
   "cell_type": "code",
   "execution_count": 85,
   "id": "b0af3dee-a542-47a0-9973-3f0f98748a79",
   "metadata": {},
   "outputs": [
    {
     "data": {
      "text/plain": [
       "listing_id       float64\n",
       "id               float64\n",
       "date              object\n",
       "reviewer_id      float64\n",
       "reviewer_name     object\n",
       "comments          object\n",
       "dtype: object"
      ]
     },
     "execution_count": 85,
     "metadata": {},
     "output_type": "execute_result"
    }
   ],
   "source": [
    "reviews_df.dtypes"
   ]
  },
  {
   "cell_type": "code",
   "execution_count": 86,
   "id": "b5b6067e-8cac-4613-81b3-f5ab4747a1c1",
   "metadata": {},
   "outputs": [
    {
     "data": {
      "text/plain": [
       "(1098459, 6)"
      ]
     },
     "execution_count": 86,
     "metadata": {},
     "output_type": "execute_result"
    }
   ],
   "source": [
    "reviews_df.shape"
   ]
  },
  {
   "cell_type": "code",
   "execution_count": 87,
   "id": "e55f423e-93e3-4825-b20b-fec7e2d588d6",
   "metadata": {},
   "outputs": [
    {
     "data": {
      "text/plain": [
       "listing_id       10087\n",
       "id               10087\n",
       "date             10087\n",
       "reviewer_id      10087\n",
       "reviewer_name    10091\n",
       "comments         10336\n",
       "dtype: int64"
      ]
     },
     "execution_count": 87,
     "metadata": {},
     "output_type": "execute_result"
    }
   ],
   "source": [
    "# check for missing values\n",
    "reviews_df.isnull().sum()"
   ]
  },
  {
   "cell_type": "markdown",
   "id": "3b460447-e9ce-4e76-bad2-b33534c2e890",
   "metadata": {},
   "source": [
    "##### Do the same thing as listings - separate into float and objects to replace with either ' ' or 0"
   ]
  },
  {
   "cell_type": "code",
   "execution_count": 92,
   "id": "20a4513f-a682-4312-96f2-fb811b6ade84",
   "metadata": {},
   "outputs": [
    {
     "data": {
      "text/plain": [
       "Index(['listing_id', 'id', 'reviewer_id'], dtype='object')"
      ]
     },
     "execution_count": 92,
     "metadata": {},
     "output_type": "execute_result"
    }
   ],
   "source": [
    "float_reviews_df = reviews_df.select_dtypes(include = float, exclude = object)\n",
    "\n",
    "float_reviews_df.select_dtypes(include = float, exclude = object).columns"
   ]
  },
  {
   "cell_type": "code",
   "execution_count": 93,
   "id": "103efbd2-e766-4f5e-b2b7-d87426ef2f95",
   "metadata": {},
   "outputs": [
    {
     "data": {
      "text/plain": [
       "Index(['date', 'reviewer_name', 'comments'], dtype='object')"
      ]
     },
     "execution_count": 93,
     "metadata": {},
     "output_type": "execute_result"
    }
   ],
   "source": [
    "object_reviews_df = reviews_df.select_dtypes(include = object, exclude = float)\n",
    "\n",
    "object_reviews_df.select_dtypes(include = object, exclude = float).columns"
   ]
  },
  {
   "cell_type": "code",
   "execution_count": 94,
   "id": "a78f64e3-e90d-44d5-8877-7c0da86380b8",
   "metadata": {},
   "outputs": [
    {
     "data": {
      "text/plain": [
       "date             0\n",
       "reviewer_name    0\n",
       "comments         0\n",
       "dtype: int64"
      ]
     },
     "execution_count": 94,
     "metadata": {},
     "output_type": "execute_result"
    }
   ],
   "source": [
    "# replace missing object values with ' '\n",
    "object_reviews_df.fillna(' ', inplace = True)\n",
    "\n",
    "# check\n",
    "object_reviews_df.isnull().sum()"
   ]
  },
  {
   "cell_type": "code",
   "execution_count": 96,
   "id": "855214ef-029f-4311-ad92-8193af54d45e",
   "metadata": {},
   "outputs": [
    {
     "data": {
      "text/plain": [
       "(1098459, 3)"
      ]
     },
     "execution_count": 96,
     "metadata": {},
     "output_type": "execute_result"
    }
   ],
   "source": [
    "object_reviews_df.shape"
   ]
  },
  {
   "cell_type": "code",
   "execution_count": 95,
   "id": "5642d6fa-25bc-4bef-a204-d15477b2c9b1",
   "metadata": {},
   "outputs": [
    {
     "data": {
      "text/plain": [
       "listing_id     0\n",
       "id             0\n",
       "reviewer_id    0\n",
       "dtype: int64"
      ]
     },
     "execution_count": 95,
     "metadata": {},
     "output_type": "execute_result"
    }
   ],
   "source": [
    "# replace missing float values with 0\n",
    "float_reviews_df.fillna(0, inplace = True)\n",
    "\n",
    "# check\n",
    "float_reviews_df.isnull().sum()"
   ]
  },
  {
   "cell_type": "code",
   "execution_count": 97,
   "id": "406c92bf-5fca-4fe7-ac2e-a9a61f20456d",
   "metadata": {},
   "outputs": [
    {
     "data": {
      "text/plain": [
       "(1098459, 3)"
      ]
     },
     "execution_count": 97,
     "metadata": {},
     "output_type": "execute_result"
    }
   ],
   "source": [
    "float_reviews_df.shape"
   ]
  },
  {
   "cell_type": "markdown",
   "id": "6a4897cb-8e5d-4ca6-9150-ee25617b0021",
   "metadata": {},
   "source": [
    "##### Concatenate back together as reviews_df:"
   ]
  },
  {
   "cell_type": "code",
   "execution_count": 98,
   "id": "d448970e-6963-458e-8478-910e3aa6b020",
   "metadata": {},
   "outputs": [
    {
     "data": {
      "text/plain": [
       "date             0\n",
       "reviewer_name    0\n",
       "comments         0\n",
       "listing_id       0\n",
       "id               0\n",
       "reviewer_id      0\n",
       "dtype: int64"
      ]
     },
     "execution_count": 98,
     "metadata": {},
     "output_type": "execute_result"
    }
   ],
   "source": [
    "reviews_df = pd.concat([object_reviews_df,float_reviews_df], axis = 1) # left/right\n",
    "\n",
    "# check\n",
    "reviews_df.isnull().sum()"
   ]
  },
  {
   "cell_type": "markdown",
   "id": "424f695a-a2d2-4a10-bf4d-e5b13e60d99d",
   "metadata": {},
   "source": [
    "##### Save to cleaned csv"
   ]
  },
  {
   "cell_type": "code",
   "execution_count": 99,
   "id": "b47a6de2-66bd-4274-ac34-55517d7af53a",
   "metadata": {},
   "outputs": [],
   "source": [
    "# save\n",
    "reviews_df.to_csv('../data/cleaned_reviews.csv')"
   ]
  }
 ],
 "metadata": {
  "kernelspec": {
   "display_name": "Python 3 (ipykernel)",
   "language": "python",
   "name": "python3"
  },
  "language_info": {
   "codemirror_mode": {
    "name": "ipython",
    "version": 3
   },
   "file_extension": ".py",
   "mimetype": "text/x-python",
   "name": "python",
   "nbconvert_exporter": "python",
   "pygments_lexer": "ipython3",
   "version": "3.9.13"
  }
 },
 "nbformat": 4,
 "nbformat_minor": 5
}
