{
 "cells": [
  {
   "cell_type": "markdown",
   "id": "9f747d7f-a6b6-4c17-8d64-cb4a18edface",
   "metadata": {},
   "source": [
    "# Conclusions and Recommendations"
   ]
  },
  {
   "cell_type": "markdown",
   "id": "a6a67bcb-f55a-4895-a06a-70edbba8b40b",
   "metadata": {},
   "source": [
    "##### My models did not perform very well, indicating that predicting price of Airbnb listings in NY based off of other numeric features is not that helpful.\n",
    "\n",
    "##### The highest score I got was with Linear Regression and hit only about 22% on my test set.\n",
    "\n",
    "##### In terms of revenue management and predicting the demand for accommodations, it's important to consider New York's size. This means that in order to be within walking distance of popular attractions or at a reasonable price, the listing will ideally accomodate 2-4 people with 1-2 bedrooms.\n",
    "\n",
    "##### Still working with the Listings dataset, but focusing on number of reviews, we can see that the total number of reviews and the number of reviews in the last twelve months is relatively similar, both gravitating towards 100-125. This is pretty on track with the number of reviews in the last 30 days with the average being around 10 reviews.\n",
    "\n",
    "##### These ask the questions:\n",
    "* which months are most likely to generate reviews? \n",
    "* Is there correlation for volume of bookings per month and number of reviews left per month?\n",
    "\n",
    "##### But on the NLP side and switching to the Reviews dataset, I found the bigrams most commonly listed in the comments on the listings:\n",
    "* new york\n",
    "* great location\n",
    "* highly recommend\n",
    "* place stay\n",
    "* great host\n",
    "* great place\n",
    "* definitely stay\n",
    "* walking distance\n",
    "* central park\n",
    "\n",
    "##### These bigrams would beneficial to consider when promoting the listings, i.e. How far away is your listing from Central Park? Is it within walking distance of popular New York attractions? And lastly, it's important to consider how to display for your most positive, and popular reviews to potential or returner customers to show them you have superhost qualities.\n",
    "\n"
   ]
  }
 ],
 "metadata": {
  "kernelspec": {
   "display_name": "Python 3 (ipykernel)",
   "language": "python",
   "name": "python3"
  },
  "language_info": {
   "codemirror_mode": {
    "name": "ipython",
    "version": 3
   },
   "file_extension": ".py",
   "mimetype": "text/x-python",
   "name": "python",
   "nbconvert_exporter": "python",
   "pygments_lexer": "ipython3",
   "version": "3.9.13"
  }
 },
 "nbformat": 4,
 "nbformat_minor": 5
}
