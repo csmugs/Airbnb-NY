{
 "cells": [
  {
   "cell_type": "markdown",
   "id": "2beab71d-989b-4705-b127-7c2fd35eaae1",
   "metadata": {},
   "source": [
    "# Capstone - Airbnb in New York"
   ]
  },
  {
   "cell_type": "markdown",
   "id": "6737d384-eb66-4a38-85d7-d7b086ce9a9f",
   "metadata": {},
   "source": [
    "## Problem Statement"
   ]
  },
  {
   "cell_type": "markdown",
   "id": "1b20a6fa-2f7d-4b2c-abfd-d02e923fbc62",
   "metadata": {},
   "source": [
    "This project uses an Airbnb dataset to improve revenue management of Airbnb in NYC. The project utilizes the listings and reviews datasets to make inferences, practice NLP, and make predictions on the demand for accommodation in the Airbnb's and the best price-value ratio for guests."
   ]
  },
  {
   "cell_type": "markdown",
   "id": "95cee9de-bc85-49b4-9c2a-4177a5d63ea8",
   "metadata": {},
   "source": [
    "## Contents:\n",
    "- [Background](#Background)\n",
    "- [Data Collection](./02_data_collection.ipynb)\n",
    "- [Data Cleaning](./03_data_cleaning.ipynb)\n",
    "- [Exploratory Data Analysis](./04_eda.ipynb)\n",
    "- [Modeling](./05_modeling.ipynb)\n",
    "- [Conclusions and Recommendations](./06_conclusions_and_recs.ipynb)"
   ]
  },
  {
   "cell_type": "markdown",
   "id": "dce78f20-5f46-4681-bfe1-a0c1e9d162cc",
   "metadata": {},
   "source": [
    "## Background"
   ]
  },
  {
   "cell_type": "markdown",
   "id": "9a8b3a15-1d6d-4f54-8f25-23cff8cdb56c",
   "metadata": {},
   "source": [
    "### Datasets\n",
    "\n",
    "* [`listings.csv`](./data/listings.csv): Listing attributes for New York Airbnbs\n",
    "* [`reviews.csv`](./data/reviews.csv): Reviews left by clients who stayed at the New York listings"
   ]
  },
  {
   "cell_type": "markdown",
   "id": "f13e4b50-065d-4245-8ddc-9b8a280c6362",
   "metadata": {},
   "source": [
    "### Data Dictionary"
   ]
  },
  {
   "cell_type": "markdown",
   "id": "3313dfea-1d47-4f33-96d9-bb180b4c23fc",
   "metadata": {},
   "source": [
    "|Feature|Type|Dataset|Description|\n",
    "|---|---|---|---|\n",
    "|listing_id|float|reviews|The unique ID for each listing|\n",
    "|id|object|float|The ID number|\n",
    "|date|object|reviews|The data each review was written|\n",
    "|reviewer_id|float|reviews|The unique ID for each reviewer|\n",
    "|reviewer_name|object|reviews|The name of each reviewer|\n",
    "|comments|object|reviews|The reviews left by customers who stayed in each listing|\n",
    "|reviews_per_month|float|listings|The number of reviews per each month|\n",
    "|number_of_reviews|float|listings|The total number of reviews|\n",
    "|number_of_reviews_ltm|float|listings|The total number of reviews in the last twelve months|\n",
    "|number_of_reviews_l30d|float|listings|The total number of reviews in the last 30 days|\n",
    "|bedrooms|float|listings|The total number of bedrooms in each listing|\n",
    "|accommodates|float|listings|The total number of people each listing can accommodate|"
   ]
  }
 ],
 "metadata": {
  "kernelspec": {
   "display_name": "Python 3 (ipykernel)",
   "language": "python",
   "name": "python3"
  },
  "language_info": {
   "codemirror_mode": {
    "name": "ipython",
    "version": 3
   },
   "file_extension": ".py",
   "mimetype": "text/x-python",
   "name": "python",
   "nbconvert_exporter": "python",
   "pygments_lexer": "ipython3",
   "version": "3.9.13"
  }
 },
 "nbformat": 4,
 "nbformat_minor": 5
}
